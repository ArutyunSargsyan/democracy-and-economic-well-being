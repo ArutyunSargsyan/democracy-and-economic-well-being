{
 "cells": [
  {
   "cell_type": "markdown",
   "metadata": {},
   "source": [
    "# Democracy and Economic Well-Being\n",
    "\n",
    "## My Research Question & Hypothesis\n",
    "\n",
    "For this research project I will be exploring what is the relationship between the level of openness of a society and the economic well-being of the citizens. My hypothesis is that countries with a more open society will have a higher level of economic well-being.\n",
    "\n",
    "## Data Used\n",
    "\n",
    "The data I will be using is a subset of the Gapminder Project’s data. This section will describe the data in more detail:\n",
    "\n",
    "### Economic Well-Being\n",
    "In order to measure the economic well-being I will be using GDP per capita data.  This originally came from the World Bank.  It is gross domestic product divided by midyear population. GDP is the sum of gross value added by all resident producers in the economy plus any product taxes and minus any subsidies not included in the value of the products. It is calculated without making deductions for depreciation of fabricated assets or for depletion and degradation of natural resources.  The data are in constant 2000 US Dollars.  The GapMinder data set that I will be analyzing is the 2010 GDP per capita.\n",
    "\n",
    "### Level of Openness\n",
    "In order to measure the level of openness of a society I will be using the democracy score as a proxy.  The more democratic a society is, the more open it is.  The democracy score comes from the Polity IV project.  It is a summary measure of a country's democratic and free nature. -10 is the lowest value, 10 the highest.  The GapMinder data set that I will analyzing is the polity score for 2009.  To get a feel for this data take a look at the following figure provided by the Polity IV project authors:\n",
    "\n",
    "![polity categories](http://www.systemicpeace.org/polity/demmap13.jpg)\n",
    "\n",
    "## Week 2 Assignment\n",
    "For this week's assignment I will investigate the relationship between a country's level of openess and their presense in the top quartile in terms of economic well-being.  I will preform chi square tests of independence on these two categorical variables.\n",
    "\n",
    "## Data Mangement\n",
    "I begin by importing the libraries needed for the analysis:"
   ]
  },
  {
   "cell_type": "code",
   "execution_count": 1,
   "metadata": {
    "collapsed": false
   },
   "outputs": [],
   "source": [
    "%matplotlib inline\n",
    "# Import libraries needed\n",
    "import pandas as pd\n",
    "import numpy as np\n",
    "import scipy.stats\n",
    "import seaborn as sns\n",
    "import matplotlib.pyplot as plt"
   ]
  },
  {
   "cell_type": "markdown",
   "metadata": {},
   "source": [
    "Now I have python parse the csv file and print out some basic statistics about the data frame (df):"
   ]
  },
  {
   "cell_type": "code",
   "execution_count": 2,
   "metadata": {
    "collapsed": false
   },
   "outputs": [
    {
     "name": "stdout",
     "output_type": "stream",
     "text": [
      "Reading in GapMinder data\n",
      "Number of observations: 213 (rows)\n",
      "Number of variables: 16 (columns)\n"
     ]
    }
   ],
   "source": [
    "# Read in the GapMinder Data\n",
    "print('Reading in GapMinder data')\n",
    "df = pd.read_csv('gapminder.csv', low_memory=False)\n",
    "# Print some basic statistics about the GapMinder data\n",
    "print('Number of observations: '+ str(len(df)) +' (rows)')\n",
    "print('Number of variables: '+ str(len(df.columns)) +' (columns)')"
   ]
  },
  {
   "cell_type": "markdown",
   "metadata": {},
   "source": [
    "There are 213 observations with 16 variables in the data frame.  I will change the data type:"
   ]
  },
  {
   "cell_type": "code",
   "execution_count": 3,
   "metadata": {
    "collapsed": true
   },
   "outputs": [],
   "source": [
    "# Change the data type for variables of interest\n",
    "df['polityscore'] = df['polityscore'].convert_objects(convert_numeric=True)\n",
    "df['incomeperperson'] = df['incomeperperson'].convert_objects(convert_numeric=True)"
   ]
  },
  {
   "cell_type": "markdown",
   "metadata": {},
   "source": [
    "I need to have a complete set of data for the variables of interest so I will subset the data frame:"
   ]
  },
  {
   "cell_type": "code",
   "execution_count": 4,
   "metadata": {
    "collapsed": false,
    "scrolled": true
   },
   "outputs": [
    {
     "name": "stdout",
     "output_type": "stream",
     "text": [
      "Dropping rows with missing democracy score and per capita GDP\n",
      "Number of observations: 155 (rows)\n",
      "Number of variables: 16 (columns)\n"
     ]
    }
   ],
   "source": [
    "# Get the rows not missing a value\n",
    "print('Dropping rows with missing democracy score and per capita GDP')\n",
    "subset = df[np.isfinite(df['polityscore'])]\n",
    "subset = subset[np.isfinite(subset['incomeperperson'])]\n",
    "print('Number of observations: '+ str(len(subset)) +' (rows)')\n",
    "print('Number of variables: '+ str(len(subset.columns)) +' (columns)')"
   ]
  },
  {
   "cell_type": "markdown",
   "metadata": {},
   "source": [
    "155 of the 213 records have complete data.  Now I will drop the unneeded variables:"
   ]
  },
  {
   "cell_type": "code",
   "execution_count": 5,
   "metadata": {
    "collapsed": false
   },
   "outputs": [
    {
     "name": "stdout",
     "output_type": "stream",
     "text": [
      "Dropping unneeded variables\n",
      "Number of observations: 155 (rows)\n",
      "Number of variables: 2 (columns)\n"
     ]
    }
   ],
   "source": [
    "# Drop unneeded columns\n",
    "print('Dropping unneeded variables')\n",
    "drops = ['country', 'alcconsumption', 'armedforcesrate', 'breastcancerper100th', 'co2emissions', 'femaleemployrate', 'hivrate', 'internetuserate', 'lifeexpectancy', 'oilperperson', 'relectricperperson', 'suicideper100th', 'employrate', 'urbanrate']\n",
    "subset.drop(drops,inplace=True,axis=1)\n",
    "# Print more statistics\n",
    "print('Number of observations: '+ str(len(subset)) +' (rows)')\n",
    "print('Number of variables: '+ str(len(subset.columns)) +' (columns)')"
   ]
  },
  {
   "cell_type": "markdown",
   "metadata": {},
   "source": [
    "### Level of Openness\n",
    "Now I will create my new variable for the democracy score categories.  I will do this by defining a function and then using that function to create the new variable:"
   ]
  },
  {
   "cell_type": "code",
   "execution_count": 6,
   "metadata": {
    "collapsed": true
   },
   "outputs": [],
   "source": [
    "# This function converts the polity score to a category\n",
    "def convert_polityscore_to_category(score):\n",
    "    if score == 10:\n",
    "        return('1 - Full Democracy')\n",
    "    elif score > 5:\n",
    "        return('2 - Democracy')\n",
    "    elif score > 0:\n",
    "        return ('3 - Open Anocracy')\n",
    "    elif score > -6:\n",
    "        return ('4 - Closed Anocracy')\n",
    "    else:\n",
    "        return('5 - Autocracy')\n",
    "\n",
    "# Now we can use the function to create the new variable\n",
    "subset['openness'] = subset['polityscore'].apply(convert_polityscore_to_category)\n",
    "subset['openness'] = subset['openness'].astype('category')"
   ]
  },
  {
   "cell_type": "markdown",
   "metadata": {},
   "source": [
    "I want to visualize the results so:"
   ]
  },
  {
   "cell_type": "code",
   "execution_count": 7,
   "metadata": {
    "collapsed": false
   },
   "outputs": [
    {
     "data": {
      "text/plain": [
       "<matplotlib.text.Text at 0x221d0f0>"
      ]
     },
     "execution_count": 7,
     "metadata": {},
     "output_type": "execute_result"
    },
    {
     "data": {
      "image/png": "[encoded data removed]",
      "text/plain": [
       "<matplotlib.figure.Figure at 0xc326e80>"
      ]
     },
     "metadata": {},
     "output_type": "display_data"
    }
   ],
   "source": [
    "sns.set_context('poster')\n",
    "plt.figure(figsize=(14, 7))\n",
    "sns.countplot(x='openness', data=subset)\n",
    "plt.ylabel('Count')\n",
    "plt.xlabel('Level of Openness')"
   ]
  },
  {
   "cell_type": "code",
   "execution_count": 8,
   "metadata": {
    "collapsed": false
   },
   "outputs": [
    {
     "name": "stdout",
     "output_type": "stream",
     "text": [
      "The Number of Countries by Openness\n",
      "openness\n",
      "1 - Full Democracy     32\n",
      "2 - Democracy          57\n",
      "3 - Open Anocracy      19\n",
      "4 - Closed Anocracy    27\n",
      "5 - Autocracy          20\n",
      "dtype: int64\n"
     ]
    }
   ],
   "source": [
    "openness_counts = subset.groupby('openness').size()\n",
    "print('The Number of Countries by Openness')\n",
    "print(openness_counts)"
   ]
  },
  {
   "cell_type": "markdown",
   "metadata": {},
   "source": [
    "### Economic Well-Being\n",
    "I also need to make a change to the GDP per capita.  Since GDP per person is a continuous varible I will need to create a discrete one:"
   ]
  },
  {
   "cell_type": "code",
   "execution_count": 9,
   "metadata": {
    "collapsed": false
   },
   "outputs": [
    {
     "name": "stdout",
     "output_type": "stream",
     "text": [
      "Creating GDP per capita quartiles and top quartile flag\n"
     ]
    }
   ],
   "source": [
    "# Create per capita GDP quartiles\n",
    "print('Creating GDP per capita quartiles and top quartile flag')\n",
    "subset['incomequartiles'] = pd.cut(subset['incomeperperson'], 4, labels=['1 -  0% to 25%','2 - 25% to 50%','3 - 50% to 75%','4 - 75% to 100%'])\n",
    "subset['incomequartiles'] = subset['incomequartiles'].astype('category')"
   ]
  },
  {
   "cell_type": "markdown",
   "metadata": {},
   "source": [
    "Now to visualize the results:"
   ]
  },
  {
   "cell_type": "code",
   "execution_count": 10,
   "metadata": {
    "collapsed": false
   },
   "outputs": [
    {
     "data": {
      "text/plain": [
       "<matplotlib.text.Text at 0xc326d30>"
      ]
     },
     "execution_count": 10,
     "metadata": {},
     "output_type": "execute_result"
    },
    {
     "data": {
      "image/png": "[encoded data removed]",
      "text/plain": [
       "<matplotlib.figure.Figure at 0x1ed048d0>"
      ]
     },
     "metadata": {},
     "output_type": "display_data"
    }
   ],
   "source": [
    "sns.set_context('poster')\n",
    "plt.figure(figsize=(14, 7))\n",
    "sns.countplot(x='incomequartiles', data=subset)\n",
    "plt.ylabel('Count')\n",
    "plt.xlabel('Economic Well-Being (GDP Per Person)')"
   ]
  },
  {
   "cell_type": "code",
   "execution_count": 11,
   "metadata": {
    "collapsed": false
   },
   "outputs": [
    {
     "name": "stdout",
     "output_type": "stream",
     "text": [
      "incomequartiles\n",
      "1 -  0% to 25%     123\n",
      "2 - 25% to 50%      12\n",
      "3 - 50% to 75%      12\n",
      "4 - 75% to 100%      8\n",
      "dtype: int64\n"
     ]
    }
   ],
   "source": [
    "income_quartile_counts = subset.groupby('incomequartiles').size()\n",
    "print(income_quartile_counts)"
   ]
  },
  {
   "cell_type": "markdown",
   "metadata": {},
   "source": [
    "For this week's assignment I need to create a categorical variable that rolls this up into two categories.  Initially I was going to do the top quartile but since there are only 8 observations I will use in the top half:"
   ]
  },
  {
   "cell_type": "code",
   "execution_count": 12,
   "metadata": {
    "collapsed": false
   },
   "outputs": [
    {
     "name": "stdout",
     "output_type": "stream",
     "text": [
      "Number of observations: 155 (rows)\n",
      "Number of variables: 5 (columns)\n"
     ]
    }
   ],
   "source": [
    "subset['top half'] = pd.cut(subset['incomeperperson'], 4, labels=['1','2','3','4'])\n",
    "recode_map = {'1':'No','2':'No','3':'Yes','4':'Yes'}\n",
    "subset['top half'] = subset['top half'].map(recode_map).astype('category')\n",
    "print('Number of observations: '+ str(len(subset)) +' (rows)')\n",
    "print('Number of variables: '+ str(len(subset.columns)) +' (columns)')"
   ]
  },
  {
   "cell_type": "markdown",
   "metadata": {},
   "source": [
    "## Chi Square\n",
    "With the data management complete I am ready to conduct a test of independence between a country's level of openness and their presense in the top half of economic well-being.  So first I will create a contingency table:\n"
   ]
  },
  {
   "cell_type": "code",
   "execution_count": 13,
   "metadata": {
    "collapsed": false
   },
   "outputs": [
    {
     "name": "stdout",
     "output_type": "stream",
     "text": [
      "openness  1 - Full Democracy  2 - Democracy  3 - Open Anocracy  \\\n",
      "top half                                                         \n",
      "No                        17             55                 19   \n",
      "Yes                       15              2                  0   \n",
      "\n",
      "openness  4 - Closed Anocracy  5 - Autocracy  \n",
      "top half                                      \n",
      "No                         26             18  \n",
      "Yes                         1              2  \n"
     ]
    }
   ],
   "source": [
    "crosstab = pd.crosstab(subset['top half'],subset['openness'])\n",
    "print(crosstab)"
   ]
  },
  {
   "cell_type": "markdown",
   "metadata": {},
   "source": [
    "Next I will display it on a percentage basis:"
   ]
  },
  {
   "cell_type": "code",
   "execution_count": 14,
   "metadata": {
    "collapsed": false
   },
   "outputs": [
    {
     "name": "stdout",
     "output_type": "stream",
     "text": [
      "openness  1 - Full Democracy  2 - Democracy  3 - Open Anocracy  \\\n",
      "top half                                                         \n",
      "No                   0.53125       0.964912                  1   \n",
      "Yes                  0.46875       0.035088                  0   \n",
      "\n",
      "openness  4 - Closed Anocracy  5 - Autocracy  \n",
      "top half                                      \n",
      "No                   0.962963            0.9  \n",
      "Yes                  0.037037            0.1  \n"
     ]
    }
   ],
   "source": [
    "column_sums = crosstab.sum(axis=0)\n",
    "column_percents = crosstab / column_sums\n",
    "print(column_percents)"
   ]
  },
  {
   "cell_type": "markdown",
   "metadata": {},
   "source": [
    "Now I can calculate the chi square:"
   ]
  },
  {
   "cell_type": "code",
   "execution_count": 15,
   "metadata": {
    "collapsed": false
   },
   "outputs": [
    {
     "name": "stdout",
     "output_type": "stream",
     "text": [
      "(42.335763324850191, 1.4211175240359132e-08, 4L, array([[ 27.87096774,  49.64516129,  16.5483871 ,  23.51612903,\n",
      "         17.41935484],\n",
      "       [  4.12903226,   7.35483871,   2.4516129 ,   3.48387097,\n",
      "          2.58064516]]))\n"
     ]
    }
   ],
   "source": [
    "chi2 = scipy.stats.chi2_contingency(crosstab)\n",
    "print(chi2)"
   ]
  },
  {
   "cell_type": "markdown",
   "metadata": {},
   "source": [
    "The P-value is extreamly small 0.00000000142 so we can reject the null hypothesis that the two variables are not independant.  But since there are more than two categories we need to do a post hoc test.\n",
    "\n",
    "### Post Hoc Chi Square Tests\n",
    "I will be using the Bonferroni adjustment so I need to calculate P values for all combinations.  Since there are 10 combinations the P values are only moved a decimal place.  Since I will be doing this 10 times I will use the following functions:\n"
   ]
  },
  {
   "cell_type": "code",
   "execution_count": 16,
   "metadata": {
    "collapsed": true
   },
   "outputs": [],
   "source": [
    "p = 0.5\n",
    "c = 10 # Number of comparisons\n",
    "bonferroni = p/c\n",
    "\n",
    "def bonferroni_test(pvalue, bonferroni):\n",
    "    if pvalue > bonferroni:\n",
    "        print('accept h0')\n",
    "    else:\n",
    "        print('reject h0')\n",
    "        \n",
    "def print_percent_crosstab(crosstab):\n",
    "    column_sums = crosstab.sum(axis=0)\n",
    "    column_percents = crosstab / column_sums\n",
    "    print(column_percents)"
   ]
  },
  {
   "cell_type": "markdown",
   "metadata": {},
   "source": [
    "Now that we have the functions defined we can work through all the combinations."
   ]
  },
  {
   "cell_type": "code",
   "execution_count": 17,
   "metadata": {
    "collapsed": false
   },
   "outputs": [
    {
     "name": "stdout",
     "output_type": "stream",
     "text": [
      "1 - Full Democracy vs 2 - Democracy\n",
      "1v2       1 - Full Democracy  2 - Democracy\n",
      "top half                                   \n",
      "No                        17             55\n",
      "Yes                       15              2\n",
      "\n",
      "\n",
      "1v2       1 - Full Democracy  2 - Democracy\n",
      "top half                                   \n",
      "No                   0.53125       0.964912\n",
      "Yes                  0.46875       0.035088\n",
      "\n",
      "\n",
      "(22.21484968484835, 2.4378102464403071e-06, 1L, array([[ 25.88764045,  46.11235955],\n",
      "       [  6.11235955,  10.88764045]]))\n",
      "reject h0\n"
     ]
    }
   ],
   "source": [
    "# 1: 1 - Full Democracy vs 2 - Democracy\n",
    "subset['1v2'] = subset['openness'].map({'1 - Full Democracy':'1 - Full Democracy', '2 - Democracy':'2 - Democracy'})\n",
    "crosstab_1v2 = pd.crosstab(subset['top half'],subset['1v2'])\n",
    "chi2_1v2 = scipy.stats.chi2_contingency(crosstab_1v2)\n",
    "print('1 - Full Democracy vs 2 - Democracy')\n",
    "print(crosstab_1v2)\n",
    "print('\\n')\n",
    "print_percent_crosstab(crosstab_1v2)\n",
    "print('\\n')\n",
    "print(chi2_1v2)\n",
    "bonferroni_test(chi2_1v2[1], bonferroni)"
   ]
  },
  {
   "cell_type": "code",
   "execution_count": 18,
   "metadata": {
    "collapsed": false
   },
   "outputs": [
    {
     "name": "stdout",
     "output_type": "stream",
     "text": [
      "1 - Full Democracy vs 3 - Open Anocracy\n",
      "1v3       1 - Full Democracy  3 - Open Anocracy\n",
      "top half                                       \n",
      "No                        17                 19\n",
      "Yes                       15                  0\n",
      "\n",
      "\n",
      "1v3       1 - Full Democracy  3 - Open Anocracy\n",
      "top half                                       \n",
      "No                   0.53125                  1\n",
      "Yes                  0.46875                  0\n",
      "\n",
      "\n",
      "(10.46038240131579, 0.0012196202839090276, 1L, array([[ 22.58823529,  13.41176471],\n",
      "       [  9.41176471,   5.58823529]]))\n",
      "reject h0\n"
     ]
    }
   ],
   "source": [
    "# 2: 1 - Full Democracy vs 3 - Open Anocracy\n",
    "subset['1v3'] = subset['openness'].map({'1 - Full Democracy':'1 - Full Democracy', '3 - Open Anocracy':'3 - Open Anocracy'})\n",
    "crosstab_1v3 = pd.crosstab(subset['top half'],subset['1v3'])\n",
    "chi2_1v3 = scipy.stats.chi2_contingency(crosstab_1v3)\n",
    "print('1 - Full Democracy vs 3 - Open Anocracy')\n",
    "print(crosstab_1v3)\n",
    "print('\\n')\n",
    "print_percent_crosstab(crosstab_1v3)\n",
    "print('\\n')\n",
    "print(chi2_1v3)\n",
    "bonferroni_test(chi2_1v3[1], bonferroni)"
   ]
  },
  {
   "cell_type": "code",
   "execution_count": 19,
   "metadata": {
    "collapsed": false
   },
   "outputs": [
    {
     "name": "stdout",
     "output_type": "stream",
     "text": [
      "1 - Full Democracy vs 4 - Closed Anocracy\n",
      "1v4       1 - Full Democracy  4 - Closed Anocracy\n",
      "top half                                         \n",
      "No                        17                   26\n",
      "Yes                       15                    1\n",
      "\n",
      "\n",
      "1v4       1 - Full Democracy  4 - Closed Anocracy\n",
      "top half                                         \n",
      "No                   0.53125             0.962963\n",
      "Yes                  0.46875             0.037037\n",
      "\n",
      "\n",
      "(11.711251665455425, 0.00062123319544656107, 1L, array([[ 23.3220339,  19.6779661],\n",
      "       [  8.6779661,   7.3220339]]))\n",
      "reject h0\n"
     ]
    }
   ],
   "source": [
    "# 3: 1 - Full Democracy vs 4 - Closed Anocracy\n",
    "subset['1v4'] = subset['openness'].map({'1 - Full Democracy':'1 - Full Democracy', '4 - Closed Anocracy':'4 - Closed Anocracy'})\n",
    "crosstab_1v4 = pd.crosstab(subset['top half'],subset['1v4'])\n",
    "chi2_1v4 = scipy.stats.chi2_contingency(crosstab_1v4)\n",
    "print('1 - Full Democracy vs 4 - Closed Anocracy')\n",
    "print(crosstab_1v4)\n",
    "print('\\n')\n",
    "print_percent_crosstab(crosstab_1v4)\n",
    "print('\\n')\n",
    "print(chi2_1v4)\n",
    "bonferroni_test(chi2_1v4[1], bonferroni)"
   ]
  },
  {
   "cell_type": "code",
   "execution_count": 20,
   "metadata": {
    "collapsed": false
   },
   "outputs": [
    {
     "name": "stdout",
     "output_type": "stream",
     "text": [
      "1 - Full Democracy vs 5 - Autocracy\n",
      "1v5       1 - Full Democracy  5 - Autocracy\n",
      "top half                                   \n",
      "No                        17             18\n",
      "Yes                       15              2\n",
      "\n",
      "\n",
      "1v5       1 - Full Democracy  5 - Autocracy\n",
      "top half                                   \n",
      "No                   0.53125            0.9\n",
      "Yes                  0.46875            0.1\n",
      "\n",
      "\n",
      "(6.0220588235294121, 0.01412815583871258, 1L, array([[ 21.53846154,  13.46153846],\n",
      "       [ 10.46153846,   6.53846154]]))\n",
      "reject h0\n"
     ]
    }
   ],
   "source": [
    "# 4: 1 - Full Democracy vs 5 - Autocracy\n",
    "subset['1v5'] = subset['openness'].map({'1 - Full Democracy':'1 - Full Democracy', '5 - Autocracy':'5 - Autocracy'})\n",
    "crosstab_1v5 = pd.crosstab(subset['top half'],subset['1v5'])\n",
    "chi2_1v5 = scipy.stats.chi2_contingency(crosstab_1v5)\n",
    "print('1 - Full Democracy vs 5 - Autocracy')\n",
    "print(crosstab_1v5)\n",
    "print('\\n')\n",
    "print_percent_crosstab(crosstab_1v5)\n",
    "print('\\n')\n",
    "print(chi2_1v5)\n",
    "bonferroni_test(chi2_1v5[1], bonferroni)"
   ]
  },
  {
   "cell_type": "code",
   "execution_count": 21,
   "metadata": {
    "collapsed": false
   },
   "outputs": [
    {
     "name": "stdout",
     "output_type": "stream",
     "text": [
      "2 - Democracy vs 3 - Open Anocracy\n",
      "2v3       2 - Democracy  3 - Open Anocracy\n",
      "top half                                  \n",
      "No                   55                 19\n",
      "Yes                   2                  0\n",
      "\n",
      "\n",
      "2v3       2 - Democracy  3 - Open Anocracy\n",
      "top half                                  \n",
      "No             0.964912                  1\n",
      "Yes            0.035088                  0\n",
      "\n",
      "\n",
      "(0.0, 1.0, 1L, array([[ 55.5,  18.5],\n",
      "       [  1.5,   0.5]]))\n",
      "accept h0\n"
     ]
    }
   ],
   "source": [
    "# 5: 2 - Democracy vs 3 - Open Anocracy\n",
    "subset['2v3'] = subset['openness'].map({'2 - Democracy':'2 - Democracy', '3 - Open Anocracy':'3 - Open Anocracy'})\n",
    "crosstab_2v3 = pd.crosstab(subset['top half'],subset['2v3'])\n",
    "chi2_2v3 = scipy.stats.chi2_contingency(crosstab_2v3)\n",
    "print('2 - Democracy vs 3 - Open Anocracy')\n",
    "print(crosstab_2v3)\n",
    "print('\\n')\n",
    "print_percent_crosstab(crosstab_2v3)\n",
    "print('\\n')\n",
    "print(chi2_2v3)\n",
    "bonferroni_test(chi2_2v3[1], bonferroni)"
   ]
  },
  {
   "cell_type": "code",
   "execution_count": 22,
   "metadata": {
    "collapsed": false
   },
   "outputs": [
    {
     "name": "stdout",
     "output_type": "stream",
     "text": [
      "2 - Democracy vs 4 - Closed Anocracy\n",
      "2v4       2 - Democracy  4 - Closed Anocracy\n",
      "top half                                    \n",
      "No                   55                   26\n",
      "Yes                   2                    1\n",
      "\n",
      "\n",
      "2v4       2 - Democracy  4 - Closed Anocracy\n",
      "top half                                    \n",
      "No             0.964912             0.962963\n",
      "Yes            0.035088             0.037037\n",
      "\n",
      "\n",
      "(0.34163598296151915, 0.55888642035139058, 1L, array([[ 54.96428571,  26.03571429],\n",
      "       [  2.03571429,   0.96428571]]))\n",
      "accept h0\n"
     ]
    }
   ],
   "source": [
    "# 6: 2 - Democracy vs 4 - Closed Anocracy\n",
    "subset['2v4'] = subset['openness'].map({'2 - Democracy':'2 - Democracy', '4 - Closed Anocracy':'4 - Closed Anocracy'})\n",
    "crosstab_2v4 = pd.crosstab(subset['top half'],subset['2v4'])\n",
    "chi2_2v4 = scipy.stats.chi2_contingency(crosstab_2v4)\n",
    "print('2 - Democracy vs 4 - Closed Anocracy')\n",
    "print(crosstab_2v4)\n",
    "print('\\n')\n",
    "print_percent_crosstab(crosstab_2v4)\n",
    "print('\\n')\n",
    "print(chi2_2v4)\n",
    "bonferroni_test(chi2_2v4[1], bonferroni)"
   ]
  },
  {
   "cell_type": "code",
   "execution_count": 23,
   "metadata": {
    "collapsed": false
   },
   "outputs": [
    {
     "name": "stdout",
     "output_type": "stream",
     "text": [
      "2 - Democracy vs 5 - Autocracy\n",
      "2v5       2 - Democracy  5 - Autocracy\n",
      "top half                              \n",
      "No                   55             18\n",
      "Yes                   2              2\n",
      "\n",
      "\n",
      "2v5       2 - Democracy  5 - Autocracy\n",
      "top half                              \n",
      "No             0.964912            0.9\n",
      "Yes            0.035088            0.1\n",
      "\n",
      "\n",
      "(0.29151420932468175, 0.58925181943118043, 1L, array([[ 54.03896104,  18.96103896],\n",
      "       [  2.96103896,   1.03896104]]))\n",
      "accept h0\n"
     ]
    }
   ],
   "source": [
    "# 7: 2 - Democracy vs 5 - Autocracy\n",
    "subset['2v5'] = subset['openness'].map({'2 - Democracy':'2 - Democracy', '5 - Autocracy':'5 - Autocracy'})\n",
    "crosstab_2v5 = pd.crosstab(subset['top half'],subset['2v5'])\n",
    "chi2_2v5 = scipy.stats.chi2_contingency(crosstab_2v5)\n",
    "print('2 - Democracy vs 5 - Autocracy')\n",
    "print(crosstab_2v5)\n",
    "print('\\n')\n",
    "print_percent_crosstab(crosstab_2v5)\n",
    "print('\\n')\n",
    "print(chi2_2v5)\n",
    "bonferroni_test(chi2_2v5[1], bonferroni)"
   ]
  },
  {
   "cell_type": "code",
   "execution_count": 24,
   "metadata": {
    "collapsed": false
   },
   "outputs": [
    {
     "name": "stdout",
     "output_type": "stream",
     "text": [
      "3 - Open Anocracy vs 4 - Closed Anocracy\n",
      "3v4       3 - Open Anocracy  4 - Closed Anocracy\n",
      "top half                                        \n",
      "No                       19                   26\n",
      "Yes                       0                    1\n",
      "\n",
      "\n",
      "3v4       3 - Open Anocracy  4 - Closed Anocracy\n",
      "top half                                        \n",
      "No                        1             0.962963\n",
      "Yes                       0             0.037037\n",
      "\n",
      "\n",
      "(0.031882174572233038, 0.8582865012321067, 1L, array([[ 18.58695652,  26.41304348],\n",
      "       [  0.41304348,   0.58695652]]))\n",
      "accept h0\n"
     ]
    }
   ],
   "source": [
    "# 8: 3 - Open Anocracy vs 4 - Closed Anocracy\n",
    "subset['3v4'] = subset['openness'].map({'3 - Open Anocracy':'3 - Open Anocracy', '4 - Closed Anocracy':'4 - Closed Anocracy'})\n",
    "crosstab_3v4 = pd.crosstab(subset['top half'],subset['3v4'])\n",
    "chi2_3v4 = scipy.stats.chi2_contingency(crosstab_3v4)\n",
    "print('3 - Open Anocracy vs 4 - Closed Anocracy')\n",
    "print(crosstab_3v4)\n",
    "print('\\n')\n",
    "print_percent_crosstab(crosstab_3v4)\n",
    "print('\\n')\n",
    "print(chi2_3v4)\n",
    "bonferroni_test(chi2_3v4[1], bonferroni)"
   ]
  },
  {
   "cell_type": "code",
   "execution_count": 25,
   "metadata": {
    "collapsed": false
   },
   "outputs": [
    {
     "name": "stdout",
     "output_type": "stream",
     "text": [
      "3 - Open Anocracy vs 5 - Autocracy\n",
      "3v5       3 - Open Anocracy  5 - Autocracy\n",
      "top half                                  \n",
      "No                       19             18\n",
      "Yes                       0              2\n",
      "\n",
      "\n",
      "3v5       3 - Open Anocracy  5 - Autocracy\n",
      "top half                                  \n",
      "No                        1            0.9\n",
      "Yes                       0            0.1\n",
      "\n",
      "\n",
      "(0.47467105263157905, 0.49084607812554149, 1L, array([[ 18.02564103,  18.97435897],\n",
      "       [  0.97435897,   1.02564103]]))\n",
      "accept h0\n"
     ]
    }
   ],
   "source": [
    "# 9: 3 - Open Anocracy vs 5 - Autocracy\n",
    "subset['3v5'] = subset['openness'].map({'3 - Open Anocracy':'3 - Open Anocracy', '5 - Autocracy':'5 - Autocracy'})\n",
    "crosstab_3v5 = pd.crosstab(subset['top half'],subset['3v5'])\n",
    "chi2_3v5 = scipy.stats.chi2_contingency(crosstab_3v5)\n",
    "print('3 - Open Anocracy vs 5 - Autocracy')\n",
    "print(crosstab_3v5)\n",
    "print('\\n')\n",
    "print_percent_crosstab(crosstab_3v5)\n",
    "print('\\n')\n",
    "print(chi2_3v5)\n",
    "bonferroni_test(chi2_3v5[1], bonferroni)"
   ]
  },
  {
   "cell_type": "code",
   "execution_count": 26,
   "metadata": {
    "collapsed": false
   },
   "outputs": [
    {
     "name": "stdout",
     "output_type": "stream",
     "text": [
      "4 - Closed Anocracy vs 5 - Autocracy\n",
      "4v5       4 - Closed Anocracy  5 - Autocracy\n",
      "top half                                    \n",
      "No                         26             18\n",
      "Yes                         1              2\n",
      "\n",
      "\n",
      "4v5       4 - Closed Anocracy  5 - Autocracy\n",
      "top half                                    \n",
      "No                   0.962963            0.9\n",
      "Yes                  0.037037            0.1\n",
      "\n",
      "\n",
      "(0.07269570707070705, 0.7874515240182709, 1L, array([[ 25.27659574,  18.72340426],\n",
      "       [  1.72340426,   1.27659574]]))\n",
      "accept h0\n"
     ]
    }
   ],
   "source": [
    "# 10: 4 - Closed Anocracy vs 5 - Autocracy\n",
    "subset['4v5'] = subset['openness'].map({'4 - Closed Anocracy':'4 - Closed Anocracy', '5 - Autocracy':'5 - Autocracy'})\n",
    "crosstab_4v5 = pd.crosstab(subset['top half'],subset['4v5'])\n",
    "chi2_4v5 = scipy.stats.chi2_contingency(crosstab_4v5)\n",
    "print('4 - Closed Anocracy vs 5 - Autocracy')\n",
    "print(crosstab_4v5)\n",
    "print('\\n')\n",
    "print_percent_crosstab(crosstab_4v5)\n",
    "print('\\n')\n",
    "print(chi2_4v5)\n",
    "bonferroni_test(chi2_4v5[1], bonferroni)"
   ]
  },
  {
   "cell_type": "markdown",
   "metadata": {},
   "source": [
    "The Full Democracy is the only type of society that we can reject the null hypothesis so it is the only type in which it is dependant on being in the top half of the economic well-being spectrum."
   ]
  }
 ],
 "metadata": {
  "kernelspec": {
   "display_name": "Python 2",
   "language": "python",
   "name": "python2"
  },
  "language_info": {
   "codemirror_mode": {
    "name": "ipython",
    "version": 2
   },
   "file_extension": ".py",
   "mimetype": "text/x-python",
   "name": "python",
   "nbconvert_exporter": "python",
   "pygments_lexer": "ipython2",
   "version": "2.7.10"
  }
 },
 "nbformat": 4,
 "nbformat_minor": 0
}
