{
 "cells": [
  {
   "cell_type": "markdown",
   "metadata": {},
   "source": [
    "# Week 2 Assignment\n",
    "## Overview\n",
    "The following is a simple exploratory data analysis of the GapMinder data set as part of the Coursera Data Management and Visualization course.  In this analysis I would like to examine the relationship between the economic well-being of a society and the level of democratization.\n",
    "\n",
    "## About the Data\n",
    "The data for this analysis comes from a subset of the GapMider project data.  In this section I will examine the variables I am interested in more detail.\n",
    "\n",
    "### Income per Person\n",
    "In order to measure the economic well-being I will be using GDP per capita data.  This originally came from the World Bank.  It is gross domestic product divided by midyear population. GDP is the sum of gross value added by all resident producers in the economy plus any product taxes and minus any subsidies not included in the value of the products. It is calculated without making deductions for depreciation of fabricated assets or for depletion and degradation of natural resources.  The data are in constant 2000 US Dollars.  The GapMinder data set that I will be analyzing is the 2010 GDP per capita.\n",
    "\n",
    "### Democracy Score\n",
    "The democracy score comes from the Polity IV project.  It is a summary measure of a country's democratic and free nature. -10 is the lowest value, 10 the highest.  The GapMinder data set that I will analyzing is the polity score for 2009.  To get a feel for this data take a look at the following figure provided by the Polity IV project authors:\n",
    "\n",
    "![polity categories](http://www.systemicpeace.org/polity/demmap13.jpg)\n",
    "\n",
    "### 2010 Internet Users\n",
    "Although not part of my initial study I would also be interested in looking at the relationship between the level of democratization and the people with internet access.\n",
    "\n",
    "## Preprocessing the Data\n",
    "I begin by importing the libraries needed for the analysis:"
   ]
  },
  {
   "cell_type": "code",
   "execution_count": 1,
   "metadata": {
    "collapsed": true
   },
   "outputs": [],
   "source": [
    "# Import libraries needed\n",
    "import pandas as pd\n",
    "import numpy as np\n",
    "from ggplot import *"
   ]
  },
  {
   "cell_type": "markdown",
   "metadata": {},
   "source": [
    "Now I have python parse the csv file and print out some basic statistics about the data frame (df):"
   ]
  },
  {
   "cell_type": "code",
   "execution_count": 2,
   "metadata": {
    "collapsed": false
   },
   "outputs": [
    {
     "name": "stdout",
     "output_type": "stream",
     "text": [
      "Number of observations: 213 (rows)\n",
      "Number of variables: 16 (columns)\n"
     ]
    }
   ],
   "source": [
    "# Read in the Data\n",
    "df = pd.read_csv('gapminder.csv', low_memory=False)\n",
    "\n",
    "# Print some basic statistics\n",
    "n = str(len(df))\n",
    "cols = str(len(df.columns))\n",
    "print('Number of observations: '+ n +' (rows)')\n",
    "print('Number of variables: '+ cols +' (columns)')"
   ]
  },
  {
   "cell_type": "markdown",
   "metadata": {},
   "source": [
    "There are 213 observations with 16 variables in the data frame.  I need to clean up the raw data prior to the analysis.  I will first change the varaible types for the variables of interst:"
   ]
  },
  {
   "cell_type": "code",
   "execution_count": 3,
   "metadata": {
    "collapsed": true
   },
   "outputs": [],
   "source": [
    "# Change the data type for variables of interest\n",
    "df['polityscore'] = df['polityscore'].convert_objects(convert_numeric=True)\n",
    "df['incomeperperson'] = df['incomeperperson'].convert_objects(convert_numeric=True)\n",
    "df['internetuserate'] = df['internetuserate'].convert_objects(convert_numeric=True)"
   ]
  },
  {
   "cell_type": "markdown",
   "metadata": {},
   "source": [
    "## Exploratory Data Analysis\n",
    "### 2009 Democracy Score\n",
    "The first variable of interest it the polityscore variable.  This variable is a measure of the level of openess of the country."
   ]
  },
  {
   "cell_type": "code",
   "execution_count": 4,
   "metadata": {
    "collapsed": false
   },
   "outputs": [
    {
     "name": "stdout",
     "output_type": "stream",
     "text": [
      "Countries with a Democracy Score: 161 out of 213\n"
     ]
    }
   ],
   "source": [
    "print ('Countries with a Democracy Score: ' + str(df['polityscore'].count()) + ' out of ' + str(len(df)))"
   ]
  },
  {
   "cell_type": "code",
   "execution_count": 5,
   "metadata": {
    "collapsed": false
   },
   "outputs": [
    {
     "name": "stdout",
     "output_type": "stream",
     "text": [
      "Countries by Democracy Score (-10=autocracy & 10=full democracy)\n",
      "polityscore\n",
      "-10     2\n",
      "-9      4\n",
      "-8      2\n",
      "-7     12\n",
      "-6      3\n",
      "-5      2\n",
      "-4      6\n",
      "-3      6\n",
      "-2      5\n",
      "-1      4\n",
      " 0      6\n",
      " 1      3\n",
      " 2      3\n",
      " 3      2\n",
      " 4      4\n",
      " 5      7\n",
      " 6     10\n",
      " 7     13\n",
      " 8     19\n",
      " 9     15\n",
      " 10    33\n",
      "dtype: int64\n"
     ]
    }
   ],
   "source": [
    "print('Countries by Democracy Score (-10=autocracy & 10=full democracy)')\n",
    "polity_counts = df.groupby('polityscore').size()\n",
    "print(polity_counts)"
   ]
  },
  {
   "cell_type": "code",
   "execution_count": 6,
   "metadata": {
    "collapsed": false
   },
   "outputs": [
    {
     "name": "stdout",
     "output_type": "stream",
     "text": [
      "Percent of Countries by Democracy Score (Out of All Countries)\n",
      "polityscore\n",
      "-10     0.938967\n",
      "-9      1.877934\n",
      "-8      0.938967\n",
      "-7      5.633803\n",
      "-6      1.408451\n",
      "-5      0.938967\n",
      "-4      2.816901\n",
      "-3      2.816901\n",
      "-2      2.347418\n",
      "-1      1.877934\n",
      " 0      2.816901\n",
      " 1      1.408451\n",
      " 2      1.408451\n",
      " 3      0.938967\n",
      " 4      1.877934\n",
      " 5      3.286385\n",
      " 6      4.694836\n",
      " 7      6.103286\n",
      " 8      8.920188\n",
      " 9      7.042254\n",
      " 10    15.492958\n",
      "dtype: float64\n"
     ]
    }
   ],
   "source": [
    "print('Percent of Countries by Democracy Score (Out of All Countries)')\n",
    "polity_percents = polity_counts * 100 / len(df)\n",
    "print(polity_percents)"
   ]
  },
  {
   "cell_type": "code",
   "execution_count": 7,
   "metadata": {
    "collapsed": false
   },
   "outputs": [
    {
     "name": "stdout",
     "output_type": "stream",
     "text": [
      "Percent of Countries by Democracy Score (Out of Countries with Democracy Scores)\n",
      "polityscore\n",
      "-10     1.242236\n",
      "-9      2.484472\n",
      "-8      1.242236\n",
      "-7      7.453416\n",
      "-6      1.863354\n",
      "-5      1.242236\n",
      "-4      3.726708\n",
      "-3      3.726708\n",
      "-2      3.105590\n",
      "-1      2.484472\n",
      " 0      3.726708\n",
      " 1      1.863354\n",
      " 2      1.863354\n",
      " 3      1.242236\n",
      " 4      2.484472\n",
      " 5      4.347826\n",
      " 6      6.211180\n",
      " 7      8.074534\n",
      " 8     11.801242\n",
      " 9      9.316770\n",
      " 10    20.496894\n",
      "dtype: float64\n"
     ]
    }
   ],
   "source": [
    "print('Percent of Countries by Democracy Score (Out of Countries with Democracy Scores)')\n",
    "has_polity = df[np.isfinite(df['polityscore'])]\n",
    "polity_percents = polity_counts * 100 / len(has_polity)\n",
    "print(polity_percents)"
   ]
  },
  {
   "cell_type": "markdown",
   "metadata": {},
   "source": [
    "There are 33 countries that are full democracies (have a polity score of 10).  This is roughly 15% of all the data.  There are 2 observations that are autocracies.  I want to see the distribution so I will create a quick plot using yhat's awesome ggplot library:"
   ]
  },
  {
   "cell_type": "code",
   "execution_count": 8,
   "metadata": {
    "collapsed": false
   },
   "outputs": [
    {
     "data": {
      "image/png": "[encoded data removed]",
      "text/plain": [
       "<matplotlib.figure.Figure at 0x21155c50>"
      ]
     },
     "metadata": {},
     "output_type": "display_data"
    },
    {
     "name": "stdout",
     "output_type": "stream",
     "text": [
      "<ggplot: (34690511)>\n"
     ]
    }
   ],
   "source": [
    "%matplotlib inline\n",
    "polity_plot = ggplot(df, aes(x='polityscore')) + geom_density() + ggtitle('Countries by Democracy Score') + xlab('Democracy Score: Ranging from Autocracy (-10) to Full Democracy (10)')\n",
    "print(polity_plot)"
   ]
  },
  {
   "cell_type": "markdown",
   "metadata": {},
   "source": [
    "We see that most of the countries are greater than zero.  I would like to see how many so I will compute a quick percentage:"
   ]
  },
  {
   "cell_type": "code",
   "execution_count": 9,
   "metadata": {
    "collapsed": false
   },
   "outputs": [
    {
     "name": "stdout",
     "output_type": "stream",
     "text": [
      "Number of countries with a Polity score greater than zero: 109\n",
      "Percent of countries with a Polity score greater than zero: 51%\n"
     ]
    }
   ],
   "source": [
    "greater_than_zero = df[df['polityscore'] > 0]\n",
    "greater_than_zero_percent = len(greater_than_zero) * 100 / len(df)\n",
    "print('Number of countries with a Polity score greater than zero: ' + str(len(greater_than_zero)))\n",
    "print('Percent of countries with a Polity score greater than zero: ' + str(greater_than_zero_percent) + '%')"
   ]
  },
  {
   "cell_type": "markdown",
   "metadata": {},
   "source": [
    "109 of the 213 countries in this data set have some degree of openness.  That makes up little over half of the data (51%)."
   ]
  },
  {
   "cell_type": "markdown",
   "metadata": {},
   "source": [
    "### 2010 GDP Per Person\n",
    "The second variable of interest is the measure of economic well-being.  The most common way to measure economic well-being is using per capita GDP, although it is not a perfect measure.  As previously noted it is the 2010 percapita GDP denoted in 2000 US dollars.  "
   ]
  },
  {
   "cell_type": "code",
   "execution_count": 10,
   "metadata": {
    "collapsed": false
   },
   "outputs": [
    {
     "name": "stdout",
     "output_type": "stream",
     "text": [
      "Countries with a GDP Per Capita: 190 out of 213\n"
     ]
    }
   ],
   "source": [
    "print ('Countries with a GDP Per Capita: ' + str(df['incomeperperson'].count()) + ' out of ' + str(len(df)))"
   ]
  },
  {
   "cell_type": "markdown",
   "metadata": {},
   "source": [
    "Since GDP per person is a continuous varible I will need to create a discrete one. For this assignment I will create quintiles:"
   ]
  },
  {
   "cell_type": "code",
   "execution_count": 11,
   "metadata": {
    "collapsed": true
   },
   "outputs": [],
   "source": [
    "df['incomequintiles'] = pd.cut(df['incomeperperson'], 5, labels=['Lowest','Second','Middle','Fourth','Highest'])"
   ]
  },
  {
   "cell_type": "markdown",
   "metadata": {},
   "source": [
    "Now that the income quintiles are formed I can calculate frequencies:"
   ]
  },
  {
   "cell_type": "code",
   "execution_count": 12,
   "metadata": {
    "collapsed": false
   },
   "outputs": [
    {
     "name": "stdout",
     "output_type": "stream",
     "text": [
      "Countries by Per Capita GDP Quintiles\n",
      "incomequintiles\n",
      "Lowest     162\n",
      "Second      24\n",
      "Middle       2\n",
      "Fourth       1\n",
      "Highest      1\n",
      "dtype: int64\n"
     ]
    }
   ],
   "source": [
    "print('Countries by Per Capita GDP Quintiles')\n",
    "incomequintiles_counts = df.groupby('incomequintiles').size()\n",
    "print(incomequintiles_counts)"
   ]
  },
  {
   "cell_type": "code",
   "execution_count": 13,
   "metadata": {
    "collapsed": false
   },
   "outputs": [
    {
     "name": "stdout",
     "output_type": "stream",
     "text": [
      "Percent of Countries by Per Capita Quintiles (Out of All Countries)\n",
      "incomequintiles\n",
      "Lowest     76.056338\n",
      "Second     11.267606\n",
      "Middle      0.938967\n",
      "Fourth      0.469484\n",
      "Highest     0.469484\n",
      "dtype: float64\n"
     ]
    }
   ],
   "source": [
    "print('Percent of Countries by Per Capita Quintiles (Out of All Countries)')\n",
    "incomequintiles_percents = incomequintiles_counts * 100 / len(df)\n",
    "print(incomequintiles_percents)"
   ]
  },
  {
   "cell_type": "code",
   "execution_count": 14,
   "metadata": {
    "collapsed": false
   },
   "outputs": [
    {
     "name": "stdout",
     "output_type": "stream",
     "text": [
      "Percent of Countries by Per Capita Quintiles (Out of Countries with GDP Per Person)\n",
      "incomequintiles\n",
      "Lowest     85.263158\n",
      "Second     12.631579\n",
      "Middle      1.052632\n",
      "Fourth      0.526316\n",
      "Highest     0.526316\n",
      "dtype: float64\n"
     ]
    }
   ],
   "source": [
    "print('Percent of Countries by Per Capita Quintiles (Out of Countries with GDP Per Person)')\n",
    "has_income = df[np.isfinite(df['incomeperperson'])]\n",
    "incomequintiles_percents = incomequintiles_counts * 100 / len(has_income)\n",
    "print(incomequintiles_percents)"
   ]
  },
  {
   "cell_type": "markdown",
   "metadata": {},
   "source": [
    "We see that 162 (76%) of the observations are in the lowest quintile.  It seems that there are two outliers that make up the fourth and fifth quintiles.\n",
    "\n",
    "### 2010 Internet Users\n",
    "Since the assignment asked me to explore a third variable I decided to look into the internet users.  Once again I need to create some discrete categories so I created quintiles."
   ]
  },
  {
   "cell_type": "code",
   "execution_count": 15,
   "metadata": {
    "collapsed": false
   },
   "outputs": [
    {
     "name": "stdout",
     "output_type": "stream",
     "text": [
      "Countries with Internet Users: 192 out of 213\n"
     ]
    }
   ],
   "source": [
    "print ('Countries with Internet Users: ' + str(df['internetuserate'].count()) + ' out of ' + str(len(df)))"
   ]
  },
  {
   "cell_type": "code",
   "execution_count": 16,
   "metadata": {
    "collapsed": false
   },
   "outputs": [
    {
     "name": "stdout",
     "output_type": "stream",
     "text": [
      "Countries by Internet User Quintiles\n",
      "internetquintiles\n",
      "Lowest     73\n",
      "Second     35\n",
      "Middle     37\n",
      "Fourth     24\n",
      "Highest    23\n",
      "dtype: int64\n"
     ]
    }
   ],
   "source": [
    "df['internetquintiles'] = pd.cut(df['internetuserate'], 5, labels=['Lowest','Second','Middle','Fourth','Highest'])\n",
    "\n",
    "print('Countries by Internet User Quintiles')\n",
    "internetquintiles_counts = df.groupby('internetquintiles').size()\n",
    "print(internetquintiles_counts)"
   ]
  },
  {
   "cell_type": "code",
   "execution_count": 17,
   "metadata": {
    "collapsed": false
   },
   "outputs": [
    {
     "name": "stdout",
     "output_type": "stream",
     "text": [
      "Percent of Countries by Internet User Quintiles (Out of All Countries)\n",
      "internetquintiles\n",
      "Lowest     34.272300\n",
      "Second     16.431925\n",
      "Middle     17.370892\n",
      "Fourth     11.267606\n",
      "Highest    10.798122\n",
      "dtype: float64\n"
     ]
    }
   ],
   "source": [
    "print('Percent of Countries by Internet User Quintiles (Out of All Countries)')\n",
    "internetquintiles_percents = internetquintiles_counts * 100 / len(df)\n",
    "print(internetquintiles_percents)"
   ]
  },
  {
   "cell_type": "code",
   "execution_count": 18,
   "metadata": {
    "collapsed": false
   },
   "outputs": [
    {
     "name": "stdout",
     "output_type": "stream",
     "text": [
      "Internet User Quintiles Percentages (Out of Countries with Internet Users)\n",
      "internetquintiles\n",
      "Lowest     38.020833\n",
      "Second     18.229167\n",
      "Middle     19.270833\n",
      "Fourth     12.500000\n",
      "Highest    11.979167\n",
      "dtype: float64\n"
     ]
    }
   ],
   "source": [
    "print('Internet User Quintiles Percentages (Out of Countries with Internet Users)')\n",
    "has_internet = df[np.isfinite(df['internetuserate'])]\n",
    "internetquintiles_percents = internetquintiles_counts * 100 / len(has_internet)\n",
    "print(internetquintiles_percents)"
   ]
  },
  {
   "cell_type": "markdown",
   "metadata": {},
   "source": [
    "We see that over a third (73 out of 213) of the countries fall in the lowest quintile."
   ]
  },
  {
   "cell_type": "markdown",
   "metadata": {
    "collapsed": true
   },
   "source": [
    "## Next Steps\n",
    "I want to simplify the democracy score since there are 21 values.  I would like to reduce them to the five categories created by the authors (online at: http://www.systemicpeace.org/polity/polity4.htm).  You can see the five categories in the map legend in the About the Data section of this jupyter notebook.\n",
    "\n",
    "I also may have to rework the income breaks.  Quintiles do not provide enough diversity.  87% of all observations fall within the lowest two quintiles.  I may have to break on equal intervals or some other means."
   ]
  }
 ],
 "metadata": {
  "kernelspec": {
   "display_name": "Python 2",
   "language": "python",
   "name": "python2"
  },
  "language_info": {
   "codemirror_mode": {
    "name": "ipython",
    "version": 2
   },
   "file_extension": ".py",
   "mimetype": "text/x-python",
   "name": "python",
   "nbconvert_exporter": "python",
   "pygments_lexer": "ipython2",
   "version": "2.7.9"
  }
 },
 "nbformat": 4,
 "nbformat_minor": 0
}
