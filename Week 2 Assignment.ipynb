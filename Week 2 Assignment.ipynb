{
 "cells": [
  {
   "cell_type": "markdown",
   "metadata": {},
   "source": [
    "# Week 2 Assignment\n",
    "##Overview\n",
    "The following is a simple exploratory data analysis of the GapMinder data set as part of the Coursera Data Management and Visualization course.  In this analysis I would like to examine the relationship between the economic well-being of a society and the level of democratization.\n",
    "\n",
    "## About the Data\n",
    "The data for this analysis comes from a subset of the GapMider project data.\n",
    "\n",
    "### Income per Person\n",
    "In order to measure the economic well-being I will be using GDP per capita data.  This originally came from the World Bank.  It is gross domestic product divided by midyear population. GDP is the sum of gross value added by all resident producers in the economy plus any product taxes and minus any subsidies not included in the value of the products. It is calculated without making deductions for depreciation of fabricated assets or for depletion and degradation of natural resources.  The data are in constant 2000 US Dollars.  The GapMinder data set that I will be analyzing is the 2010 GDP per capita.\n",
    "\n",
    "### Democracy Score\n",
    "The democracy score comes from the Polity IV project.  It is a summary measure of a country's democratic and free nature. -10 is the lowest value, 10 the highest.  The GapMinder data set that I will analyzing is the polity score for 2009.\n",
    "\n",
    "##Preprocessing the Data\n",
    "I begin by importing the libraries needed for the analysis:"
   ]
  },
  {
   "cell_type": "code",
   "execution_count": 1,
   "metadata": {
    "collapsed": true
   },
   "outputs": [],
   "source": [
    "# Import libraries needed\n",
    "import pandas as pd\n",
    "from ggplot import *"
   ]
  },
  {
   "cell_type": "markdown",
   "metadata": {},
   "source": [
    "Now I have python parse the csv file and print out some basic statistics about the data frame (df):"
   ]
  },
  {
   "cell_type": "code",
   "execution_count": 2,
   "metadata": {
    "collapsed": false
   },
   "outputs": [
    {
     "name": "stdout",
     "output_type": "stream",
     "text": [
      "Number of observations: 213 (rows)\n",
      "Number of variables: 16 (columns)\n"
     ]
    }
   ],
   "source": [
    "# Read in the Data\n",
    "df = pd.read_csv('gapminder.csv', low_memory=False)\n",
    "\n",
    "# Print some basic statistics\n",
    "n = str(len(df))\n",
    "cols = str(len(df.columns))\n",
    "print('Number of observations: '+ n +' (rows)')\n",
    "print('Number of variables: '+ cols +' (columns)')"
   ]
  },
  {
   "cell_type": "markdown",
   "metadata": {},
   "source": [
    "There are 213 observations with 16 variables in the data frame.  I need to clean up the raw data prior to the analysis.  I will first change the varaible types for the variables of interst:"
   ]
  },
  {
   "cell_type": "code",
   "execution_count": 3,
   "metadata": {
    "collapsed": true
   },
   "outputs": [],
   "source": [
    "# Change the data type for variables of interest\n",
    "df['polityscore'] = df['polityscore'].convert_objects(convert_numeric=True)\n",
    "df['incomeperperson'] = df['incomeperperson'].convert_objects(convert_numeric=True)"
   ]
  },
  {
   "cell_type": "markdown",
   "metadata": {},
   "source": [
    "##Exploratory Data Analysis\n",
    "### 2009 Democracy Score\n",
    "The first variable of interest it the polityscore variable.  This variable is a measure of the level of openess of the country.  It ranges from -10 (an autocracy) to 10 (full democracy)."
   ]
  },
  {
   "cell_type": "code",
   "execution_count": 4,
   "metadata": {
    "collapsed": false
   },
   "outputs": [
    {
     "name": "stdout",
     "output_type": "stream",
     "text": [
      "Value counts\n",
      "polityscore\n",
      "-10     2\n",
      "-9      4\n",
      "-8      2\n",
      "-7     12\n",
      "-6      3\n",
      "-5      2\n",
      "-4      6\n",
      "-3      6\n",
      "-2      5\n",
      "-1      4\n",
      " 0      6\n",
      " 1      3\n",
      " 2      3\n",
      " 3      2\n",
      " 4      4\n",
      " 5      7\n",
      " 6     10\n",
      " 7     13\n",
      " 8     19\n",
      " 9     15\n",
      " 10    33\n",
      "dtype: int64\n"
     ]
    }
   ],
   "source": [
    "print('Value counts')\n",
    "polity_counts = df.groupby('polityscore').size()\n",
    "print(polity_counts)"
   ]
  },
  {
   "cell_type": "code",
   "execution_count": 5,
   "metadata": {
    "collapsed": false
   },
   "outputs": [
    {
     "name": "stdout",
     "output_type": "stream",
     "text": [
      "Value percentages\n",
      "polityscore\n",
      "-10     0.938967\n",
      "-9      1.877934\n",
      "-8      0.938967\n",
      "-7      5.633803\n",
      "-6      1.408451\n",
      "-5      0.938967\n",
      "-4      2.816901\n",
      "-3      2.816901\n",
      "-2      2.347418\n",
      "-1      1.877934\n",
      " 0      2.816901\n",
      " 1      1.408451\n",
      " 2      1.408451\n",
      " 3      0.938967\n",
      " 4      1.877934\n",
      " 5      3.286385\n",
      " 6      4.694836\n",
      " 7      6.103286\n",
      " 8      8.920188\n",
      " 9      7.042254\n",
      " 10    15.492958\n",
      "dtype: float64\n"
     ]
    }
   ],
   "source": [
    "print('Value percentages')\n",
    "polity_percents = polity_counts * 100 / len(df)\n",
    "print(polity_percents)"
   ]
  },
  {
   "cell_type": "code",
   "execution_count": 6,
   "metadata": {
    "collapsed": false
   },
   "outputs": [
    {
     "data": {
      "image/png": "[encoded data removed]",
      "text/plain": [
       "<matplotlib.figure.Figure at 0x1f99c080>"
      ]
     },
     "metadata": {},
     "output_type": "display_data"
    },
    {
     "name": "stdout",
     "output_type": "stream",
     "text": [
      "<ggplot: (34690543)>\n"
     ]
    }
   ],
   "source": [
    "%matplotlib inline\n",
    "polity_plot = ggplot(df, aes(x='polityscore')) + geom_density()\n",
    "print(polity_plot)"
   ]
  },
  {
   "cell_type": "markdown",
   "metadata": {},
   "source": [
    "###2010 GDP Per Person\n",
    "The second variable of interest is the measure of economic well-being.  It is the 2010 percapita GDP denoted in 2000 US dollars.  Since GDP per person is a continuous varible and I want a discrete one. I will create quintiles:"
   ]
  },
  {
   "cell_type": "code",
   "execution_count": 7,
   "metadata": {
    "collapsed": true
   },
   "outputs": [],
   "source": [
    "df['incomequantiles'] = pd.cut(df['incomeperperson'], 5, labels=['one','two','three','four','five'])"
   ]
  },
  {
   "cell_type": "markdown",
   "metadata": {},
   "source": [
    "Now that the income quantiles are formed, I can calculate frequencies:"
   ]
  },
  {
   "cell_type": "code",
   "execution_count": 8,
   "metadata": {
    "collapsed": false
   },
   "outputs": [
    {
     "name": "stdout",
     "output_type": "stream",
     "text": [
      "Value counts\n",
      "incomequantiles\n",
      "one      162\n",
      "two       24\n",
      "three      2\n",
      "four       1\n",
      "five       1\n",
      "dtype: int64\n"
     ]
    }
   ],
   "source": [
    "print('Value counts')\n",
    "incomequantiles_counts = df.groupby('incomequantiles').size()\n",
    "print(incomequantiles_counts)"
   ]
  },
  {
   "cell_type": "code",
   "execution_count": 9,
   "metadata": {
    "collapsed": false
   },
   "outputs": [
    {
     "name": "stdout",
     "output_type": "stream",
     "text": [
      "Value percentages\n",
      "incomequantiles\n",
      "one      76.056338\n",
      "two      11.267606\n",
      "three     0.938967\n",
      "four      0.469484\n",
      "five      0.469484\n",
      "dtype: float64\n"
     ]
    }
   ],
   "source": [
    "print('Value percentages')\n",
    "incomequantiles_percents = incomequantiles_counts * 100 / len(df)\n",
    "print(incomequantiles_percents)"
   ]
  },
  {
   "cell_type": "markdown",
   "metadata": {
    "collapsed": true
   },
   "source": [
    "##Next Steps\n",
    "I do want to simplify since there are 21 values ranging from -10 to 10.  Using the definitions created by the authors (online at: [http://www.systemicpeace.org/polity/polity4.htm|http://www.systemicpeace.org/polity/polity4.htm]) these categories can be mapped into 5 categories as shown below:\n",
    "\n",
    "![polity categories](http://www.systemicpeace.org/polity/demmap13.jpg)"
   ]
  }
 ],
 "metadata": {
  "kernelspec": {
   "display_name": "Python 2",
   "language": "python",
   "name": "python2"
  },
  "language_info": {
   "codemirror_mode": {
    "name": "ipython",
    "version": 2
   },
   "file_extension": ".py",
   "mimetype": "text/x-python",
   "name": "python",
   "nbconvert_exporter": "python",
   "pygments_lexer": "ipython2",
   "version": "2.7.9"
  }
 },
 "nbformat": 4,
 "nbformat_minor": 0
}
