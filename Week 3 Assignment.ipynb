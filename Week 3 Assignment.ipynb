{
 "cells": [
  {
   "cell_type": "markdown",
   "metadata": {},
   "source": [
    "# Week 3 Assignment\n",
    "## Overview\n",
    "The following is a simple exploratory data analysis of the GapMinder data set as part of the Coursera Data Management and Visualization course.  In this analysis I would like to examine the relationship between the economic well-being of a society and the level of democratization.\n",
    "\n",
    "## About the Data\n",
    "The data for this analysis comes from a subset of the GapMider project data.  In this section I will examine the variables I am interested in more detail.\n",
    "\n",
    "### Income per Person\n",
    "In order to measure the economic well-being I will be using GDP per capita data.  This originally came from the World Bank.  It is gross domestic product divided by midyear population. GDP is the sum of gross value added by all resident producers in the economy plus any product taxes and minus any subsidies not included in the value of the products. It is calculated without making deductions for depreciation of fabricated assets or for depletion and degradation of natural resources.  The data are in constant 2000 US Dollars.  The GapMinder data set that I will be analyzing is the 2010 GDP per capita.\n",
    "\n",
    "### Democracy Score\n",
    "The democracy score comes from the Polity IV project.  It is a summary measure of a country's democratic and free nature. -10 is the lowest value, 10 the highest.  The GapMinder data set that I will analyzing is the polity score for 2009.  To get a feel for this data take a look at the following figure provided by the Polity IV project authors:\n",
    "\n",
    "![polity categories](http://www.systemicpeace.org/polity/demmap13.jpg)\n",
    "\n",
    "### Democracy Categories\n",
    "Since the democracy score ranges from -10 to 10 there will be 21 values.  This will be a bit unruly so I will create a new variable using the democracy categories detailed in the map legend above.\n",
    "\n",
    "### Continents\n",
    "I have also created a data set that maps each country into a continent.  This is done so I can take a look at a geographical variable to see if it is meaningful to include or not.\n",
    "\n",
    "## Data Mangement\n",
    "I begin by importing the libraries needed for the analysis:"
   ]
  },
  {
   "cell_type": "code",
   "execution_count": 1,
   "metadata": {
    "collapsed": true
   },
   "outputs": [],
   "source": [
    "%matplotlib inline\n",
    "# Import libraries needed\n",
    "import pandas as pd\n",
    "import numpy as np\n",
    "import seaborn as sns\n",
    "import matplotlib.pyplot as plt"
   ]
  },
  {
   "cell_type": "markdown",
   "metadata": {},
   "source": [
    "Now I have python parse the csv file and print out some basic statistics about the data frame (df):"
   ]
  },
  {
   "cell_type": "code",
   "execution_count": 2,
   "metadata": {
    "collapsed": false
   },
   "outputs": [
    {
     "name": "stdout",
     "output_type": "stream",
     "text": [
      "Reading in GapMinder data\n",
      "Number of observations: 213 (rows)\n",
      "Number of variables: 16 (columns)\n"
     ]
    }
   ],
   "source": [
    "# Read in the GapMinder Data\n",
    "print('Reading in GapMinder data')\n",
    "df = pd.read_csv('gapminder.csv', low_memory=False)\n",
    "# Print some basic statistics about the GapMinder data\n",
    "print('Number of observations: '+ str(len(df)) +' (rows)')\n",
    "print('Number of variables: '+ str(len(df.columns)) +' (columns)')"
   ]
  },
  {
   "cell_type": "markdown",
   "metadata": {},
   "source": [
    "There are 213 observations with 16 variables in the data frame.  I have created a dataset that maps the countries in the GapMinder data set to their individual continents.  I will pull in this data and print out some basic statistics about that data frame:"
   ]
  },
  {
   "cell_type": "code",
   "execution_count": 3,
   "metadata": {
    "collapsed": false
   },
   "outputs": [
    {
     "name": "stdout",
     "output_type": "stream",
     "text": [
      "Reading in continent data\n",
      "Number of observations: 213 (rows)\n",
      "Number of variables: 2 (columns)\n"
     ]
    }
   ],
   "source": [
    "print('Reading in continent data')\n",
    "continents = pd.read_csv('gapminder-continents.csv', low_memory=False)\n",
    "# Print some basic statistics about the continents\n",
    "print('Number of observations: '+ str(len(continents)) +' (rows)')\n",
    "print('Number of variables: '+ str(len(continents.columns)) +' (columns)')"
   ]
  },
  {
   "cell_type": "markdown",
   "metadata": {},
   "source": [
    "Now that I have both data frames I will merge them together:"
   ]
  },
  {
   "cell_type": "code",
   "execution_count": 4,
   "metadata": {
    "collapsed": false
   },
   "outputs": [
    {
     "name": "stdout",
     "output_type": "stream",
     "text": [
      "Merging GapMinder and continent data\n",
      "Number of observations: 213 (rows)\n",
      "Number of variables: 17 (columns)\n"
     ]
    }
   ],
   "source": [
    "# Merge the two dataframes\n",
    "print('Merging GapMinder and continent data')\n",
    "df = pd.merge(df, continents, left_on='country', right_on='country')\n",
    "# Print some updated basic statistics\n",
    "print('Number of observations: '+ str(len(df)) +' (rows)')\n",
    "print('Number of variables: '+ str(len(df.columns)) +' (columns)')"
   ]
  },
  {
   "cell_type": "markdown",
   "metadata": {},
   "source": [
    "There are 2013 observations but are now 17 variables.  I will need to change the object types as a first step of data wrangling:"
   ]
  },
  {
   "cell_type": "code",
   "execution_count": 5,
   "metadata": {
    "collapsed": true
   },
   "outputs": [],
   "source": [
    "# Change the data type for variables of interest\n",
    "df['polityscore'] = df['polityscore'].convert_objects(convert_numeric=True)\n",
    "df['incomeperperson'] = df['incomeperperson'].convert_objects(convert_numeric=True)"
   ]
  },
  {
   "cell_type": "markdown",
   "metadata": {},
   "source": [
    "I want to see how many missing observations there are in the variables of interest:"
   ]
  },
  {
   "cell_type": "code",
   "execution_count": 6,
   "metadata": {
    "collapsed": false
   },
   "outputs": [
    {
     "name": "stdout",
     "output_type": "stream",
     "text": [
      "Countries with a Democracy Score: 161 out of 213 (52 missing)\n",
      "Countries with a GDP Per Capita: 190 out of 213 (23 missing)\n"
     ]
    }
   ],
   "source": [
    "# Print out the counts of valid and missing rows\n",
    "print ('Countries with a Democracy Score: ' + str(df['polityscore'].count()) + ' out of ' + str(len(df)) + ' (' + str(len(df) - df['polityscore'].count()) + ' missing)')\n",
    "print ('Countries with a GDP Per Capita: ' + str(df['incomeperperson'].count()) + ' out of ' + str(len(df)) + ' (' + str(len(df) - df['incomeperperson'].count()) + ' missing)')"
   ]
  },
  {
   "cell_type": "markdown",
   "metadata": {},
   "source": [
    "I need to have a set of data with both variables of interest so I will subset the data frame:"
   ]
  },
  {
   "cell_type": "code",
   "execution_count": 7,
   "metadata": {
    "collapsed": false
   },
   "outputs": [
    {
     "name": "stdout",
     "output_type": "stream",
     "text": [
      "Dropping rows with missing democracy score and per capita GDP\n",
      "Number of observations: 155 (rows)\n",
      "Number of variables: 17 (columns)\n"
     ]
    }
   ],
   "source": [
    "# Get the rows not missing a value\n",
    "print('Dropping rows with missing democracy score and per capita GDP')\n",
    "subset = df[np.isfinite(df['polityscore'])]\n",
    "subset = subset[np.isfinite(subset['incomeperperson'])]\n",
    "print('Number of observations: '+ str(len(subset)) +' (rows)')\n",
    "print('Number of variables: '+ str(len(subset.columns)) +' (columns)')"
   ]
  },
  {
   "cell_type": "markdown",
   "metadata": {},
   "source": [
    "155 of the 213 records have complete data.  Now I will drop the unneeded variables from the merged data frame:"
   ]
  },
  {
   "cell_type": "code",
   "execution_count": 8,
   "metadata": {
    "collapsed": false
   },
   "outputs": [
    {
     "name": "stdout",
     "output_type": "stream",
     "text": [
      "Dropping unneeded variables\n",
      "Number of observations: 155 (rows)\n",
      "Number of variables: 3 (columns)\n"
     ]
    }
   ],
   "source": [
    "# Drop unneeded columns\n",
    "print('Dropping unneeded variables')\n",
    "drops = ['country', 'alcconsumption', 'armedforcesrate', 'breastcancerper100th', 'co2emissions', 'femaleemployrate', 'hivrate', 'internetuserate', 'lifeexpectancy', 'oilperperson', 'relectricperperson', 'suicideper100th', 'employrate', 'urbanrate']\n",
    "subset.drop(drops,inplace=True,axis=1)\n",
    "# Print more statistics\n",
    "print('Number of observations: '+ str(len(subset)) +' (rows)')\n",
    "print('Number of variables: '+ str(len(subset.columns)) +' (columns)')"
   ]
  },
  {
   "cell_type": "markdown",
   "metadata": {},
   "source": [
    "Now I will create my new variable for the democracy score categories.  I will do this by defining a function and then using that function to create the new variable:"
   ]
  },
  {
   "cell_type": "code",
   "execution_count": 9,
   "metadata": {
    "collapsed": true
   },
   "outputs": [],
   "source": [
    "# This function converts the polity score to a category\n",
    "def convert_polityscore_to_category(score):\n",
    "    if score == 10:\n",
    "        return('1 - Full Democracy')\n",
    "    elif score > 5:\n",
    "        return('2 - Democracy')\n",
    "    elif score > 0:\n",
    "        return ('3 - Open Anocracy')\n",
    "    elif score > -6:\n",
    "        return ('4 - Closed Anocracy')\n",
    "    else:\n",
    "        return('5 - Autocracy')\n",
    "\n",
    "# Now we can use the function to create the new variable\n",
    "subset['democracy'] = subset['polityscore'].apply(convert_polityscore_to_category)\n",
    "subset['democracy'] = subset['democracy'].astype('category')"
   ]
  },
  {
   "cell_type": "markdown",
   "metadata": {},
   "source": [
    "I also need to make a change to the GDP per capita.  Since GDP per person is a continuous varible I will need to create a discrete one. For this assignment I will create quintiles and quartiles:"
   ]
  },
  {
   "cell_type": "code",
   "execution_count": 10,
   "metadata": {
    "collapsed": false
   },
   "outputs": [
    {
     "name": "stdout",
     "output_type": "stream",
     "text": [
      "Creating GDP per capita quintiles\n",
      "Creating GDP per capita quartiles\n",
      "Number of observations: 155 (rows)\n",
      "Number of variables: 6 (columns)\n"
     ]
    }
   ],
   "source": [
    "# Create per capita GDP quintiles\n",
    "print('Creating GDP per capita quintiles')\n",
    "subset['incomequintiles'] = pd.cut(subset['incomeperperson'], 5, labels=['1 - Lowest  (0% to 20%)','2 - Second  (20% to 40%)','3 - Middle  (40% to 60%)','4 - Fourth  (60% to 80%)','5 - Highest (80% to 100%)'])\n",
    "subset['incomequintiles'] = subset['incomequintiles'].astype('category')\n",
    "# Create per capita GDP quartiles\n",
    "print('Creating GDP per capita quartiles')\n",
    "subset['incomequartiles'] = pd.cut(subset['incomeperperson'], 4, labels=['1 -  0% to 25%','2 - 25% to 50%','3 - 50% to 75%','4 - 75% to 100%'])\n",
    "subset['incomequartiles'] = subset['incomequartiles'].astype('category')\n",
    "print('Number of observations: '+ str(len(subset)) +' (rows)')\n",
    "print('Number of variables: '+ str(len(subset.columns)) +' (columns)')"
   ]
  },
  {
   "cell_type": "markdown",
   "metadata": {},
   "source": [
    "## Exploratory Data Analysis\n",
    "\n",
    "### Economic Well-Being and Level of Democracy by Continent\n",
    "\n",
    "I want to get a sense of where the distribution of levels of democracy over the continents.  Where are most of the full democracies?  Where are the autocracies?  Is geography a meaningful variable to include?  \n",
    "\n",
    "First let's start off with what is the distribution of countries by continent in the data set:"
   ]
  },
  {
   "cell_type": "code",
   "execution_count": 11,
   "metadata": {
    "collapsed": false
   },
   "outputs": [
    {
     "name": "stdout",
     "output_type": "stream",
     "text": [
      "Countries by Continent\n",
      "continent\n",
      "Africa                    49\n",
      "Asia                      37\n",
      "Australia and Oceania      5\n",
      "Europe                    39\n",
      "North America             14\n",
      "South America             11\n",
      "dtype: int64\n"
     ]
    }
   ],
   "source": [
    "print('Countries by Continent')\n",
    "country_counts = subset.groupby('continent').size()\n",
    "print(country_counts)"
   ]
  },
  {
   "cell_type": "markdown",
   "metadata": {},
   "source": [
    "Most of the countries are from Africa and Europe.  There is no suprises here.  \n",
    "#### Level of Democracy by Continent\n",
    "Now let's look at which continents have the democracies:"
   ]
  },
  {
   "cell_type": "code",
   "execution_count": 12,
   "metadata": {
    "collapsed": false
   },
   "outputs": [
    {
     "name": "stdout",
     "output_type": "stream",
     "text": [
      "Democracies by Continent\n",
      "continent\n",
      "Africa                    17\n",
      "Asia                      13\n",
      "Australia and Oceania      3\n",
      "Europe                    35\n",
      "North America             12\n",
      "South America              9\n",
      "dtype: int64\n"
     ]
    }
   ],
   "source": [
    "print('Democracies by Continent')\n",
    "subset2 = subset[(subset['democracy'] == '1 - Full Democracy') | (subset['democracy'] == '2 - Democracy')]\n",
    "democracy_counts = subset2.groupby('continent').size()\n",
    "print(democracy_counts)"
   ]
  },
  {
   "cell_type": "markdown",
   "metadata": {},
   "source": [
    "Most of the democracies are in Europe, followed by Africa and North America.  Now I want to look at which continent has the highest share of countries that are democracies:  "
   ]
  },
  {
   "cell_type": "code",
   "execution_count": 13,
   "metadata": {
    "collapsed": false
   },
   "outputs": [
    {
     "name": "stdout",
     "output_type": "stream",
     "text": [
      "Percent of Democracies by Continent\n",
      "continent\n",
      "Africa                    34.693878\n",
      "Asia                      35.135135\n",
      "Australia and Oceania     60.000000\n",
      "Europe                    89.743590\n",
      "North America             85.714286\n",
      "South America             81.818182\n",
      "dtype: float64\n"
     ]
    }
   ],
   "source": [
    "print('Percent of Democracies by Continent')\n",
    "democracy_percent = (democracy_counts / country_counts)*100\n",
    "print(democracy_percent)"
   ]
  },
  {
   "cell_type": "markdown",
   "metadata": {},
   "source": [
    "Europe has the highest concentration (about 90%) followed by North America (85%).  Asia and Africa had the lowest concentrations (both roughly 35%)."
   ]
  },
  {
   "cell_type": "code",
   "execution_count": 14,
   "metadata": {
    "collapsed": false
   },
   "outputs": [
    {
     "name": "stdout",
     "output_type": "stream",
     "text": [
      "Autocracies by Continent\n",
      "continent\n",
      "Africa            4\n",
      "Asia             13\n",
      "Europe            2\n",
      "North America     1\n",
      "dtype: int64\n"
     ]
    }
   ],
   "source": [
    "print('Autocracies by Continent')\n",
    "subset3 = subset[(subset['democracy'] == '5 - Autocracy')]\n",
    "autocracy_counts = subset3.groupby('continent').size()\n",
    "print(autocracy_counts)"
   ]
  },
  {
   "cell_type": "markdown",
   "metadata": {},
   "source": [
    "Asia has 13 countries that are autocracies.  South America and Australia and Oceania are not found in this list."
   ]
  },
  {
   "cell_type": "code",
   "execution_count": 15,
   "metadata": {
    "collapsed": false
   },
   "outputs": [
    {
     "name": "stdout",
     "output_type": "stream",
     "text": [
      "Percent of Autocracies by Continent\n",
      "continent\n",
      "Africa                     8.163265\n",
      "Asia                      35.135135\n",
      "Australia and Oceania           NaN\n",
      "Europe                     5.128205\n",
      "North America              7.142857\n",
      "South America                   NaN\n",
      "dtype: float64\n"
     ]
    }
   ],
   "source": [
    "print('Percent of Autocracies by Continent')\n",
    "autocracy_percent = (autocracy_counts / country_counts)*100\n",
    "print(autocracy_percent)"
   ]
  },
  {
   "cell_type": "markdown",
   "metadata": {},
   "source": [
    "I want to see this data displayed as a crosstab:"
   ]
  },
  {
   "cell_type": "code",
   "execution_count": 16,
   "metadata": {
    "collapsed": false
   },
   "outputs": [
    {
     "name": "stdout",
     "output_type": "stream",
     "text": [
      "The Number of Countries by Continent and Level of Democracy\n",
      "democracy               1 - Full Democracy  2 - Democracy  3 - Open Anocracy  \\\n",
      "continent                                                                      \n",
      "Africa                                   1             16                  8   \n",
      "Asia                                     3             10                  6   \n",
      "Australia and Oceania                    2              1                  1   \n",
      "Europe                                  20             15                  2   \n",
      "North America                            4              8                  1   \n",
      "South America                            2              7                  1   \n",
      "\n",
      "democracy               4 - Closed Anocracy  5 - Autocracy  \n",
      "continent                                                   \n",
      "Africa                                   20              4  \n",
      "Asia                                      5             13  \n",
      "Australia and Oceania                     1              0  \n",
      "Europe                                    0              2  \n",
      "North America                             0              1  \n",
      "South America                             1              0  \n"
     ]
    }
   ],
   "source": [
    "ct1 = pd.crosstab(subset['continent'], subset['democracy'])\n",
    "print('The Number of Countries by Continent and Level of Democracy')\n",
    "print(ct1)"
   ]
  },
  {
   "cell_type": "code",
   "execution_count": 17,
   "metadata": {
    "collapsed": false
   },
   "outputs": [
    {
     "name": "stdout",
     "output_type": "stream",
     "text": [
      "The Percent of Countries by Continent and Level of Democracy\n",
      "democracy               1 - Full Democracy  2 - Democracy  3 - Open Anocracy  \\\n",
      "continent                                                                      \n",
      "Africa                            0.645161      10.322581           5.161290   \n",
      "Asia                              1.935484       6.451613           3.870968   \n",
      "Australia and Oceania             1.290323       0.645161           0.645161   \n",
      "Europe                           12.903226       9.677419           1.290323   \n",
      "North America                     2.580645       5.161290           0.645161   \n",
      "South America                     1.290323       4.516129           0.645161   \n",
      "\n",
      "democracy               4 - Closed Anocracy  5 - Autocracy  \n",
      "continent                                                   \n",
      "Africa                            12.903226       2.580645  \n",
      "Asia                               3.225806       8.387097  \n",
      "Australia and Oceania              0.645161       0.000000  \n",
      "Europe                             0.000000       1.290323  \n",
      "North America                      0.000000       0.645161  \n",
      "South America                      0.645161       0.000000  \n"
     ]
    }
   ],
   "source": [
    "pt1 = (ct1/len(subset))*100\n",
    "print('The Percent of Countries by Continent and Level of Democracy')\n",
    "print(pt1)"
   ]
  },
  {
   "cell_type": "markdown",
   "metadata": {},
   "source": [
    "#### Economic Well-Being by Continent\n",
    "From previous experience with these types of measures I have an sense of what these numbers will be but want to examine this data set:"
   ]
  },
  {
   "cell_type": "code",
   "execution_count": 18,
   "metadata": {
    "collapsed": false
   },
   "outputs": [
    {
     "name": "stdout",
     "output_type": "stream",
     "text": [
      "GDP Statistics by Continent\n",
      "                                mean           std       median  len\n",
      "continent                                                           \n",
      "Africa                   1282.323323   1905.397493   432.226337   49\n",
      "Asia                     6626.390845  10354.906574  1525.780116   37\n",
      "Australia and Oceania    8829.433594  10874.284074  2230.676374    5\n",
      "Europe                  13150.136846  11939.924136  7381.312751   39\n",
      "North America            7863.006553  10619.249438  4272.107945   14\n",
      "South America            4419.465882   3248.702577  3233.423780   11\n"
     ]
    }
   ],
   "source": [
    "print('GDP Statistics by Continent')\n",
    "gdp_mean = subset.groupby('continent')['incomeperperson'].agg([np.mean, np.std, np.median, len])\n",
    "print(gdp_mean)"
   ]
  },
  {
   "cell_type": "markdown",
   "metadata": {},
   "source": [
    "I personally feel the median is the measure to look at in the preceeding table.  Median per capita GDP is highest in Europe followed by North America and is horrifically low in Africa."
   ]
  },
  {
   "cell_type": "markdown",
   "metadata": {},
   "source": [
    "### Economic Well-Being by Level of Democracy\n",
    "#### Approach 1: GDP Per Capita Quintiles by Level of Democracy\n",
    "Now that I have a sense of the relationship between the level of democracy and the continent I will examine the relationship between economic well-being and level of democracy.  I will begin with an examination of GDP quintiles by level of democracy:"
   ]
  },
  {
   "cell_type": "code",
   "execution_count": 19,
   "metadata": {
    "collapsed": false
   },
   "outputs": [
    {
     "name": "stdout",
     "output_type": "stream",
     "text": [
      "The Number of Countries by Income Quintile and Level of Democracy\n",
      "democracy                  1 - Full Democracy  2 - Democracy  \\\n",
      "incomequintiles                                                \n",
      "1 - Lowest  (0% to 20%)                     7             53   \n",
      "2 - Second  (20% to 40%)                    9              1   \n",
      "3 - Middle  (40% to 60%)                    2              2   \n",
      "4 - Fourth  (60% to 80%)                    9              1   \n",
      "5 - Highest (80% to 100%)                   5              0   \n",
      "\n",
      "democracy                  3 - Open Anocracy  4 - Closed Anocracy  \\\n",
      "incomequintiles                                                     \n",
      "1 - Lowest  (0% to 20%)                   19                   25   \n",
      "2 - Second  (20% to 40%)                   0                    1   \n",
      "3 - Middle  (40% to 60%)                   0                    0   \n",
      "4 - Fourth  (60% to 80%)                   0                    0   \n",
      "5 - Highest (80% to 100%)                  0                    1   \n",
      "\n",
      "democracy                  5 - Autocracy  \n",
      "incomequintiles                           \n",
      "1 - Lowest  (0% to 20%)               15  \n",
      "2 - Second  (20% to 40%)               3  \n",
      "3 - Middle  (40% to 60%)               1  \n",
      "4 - Fourth  (60% to 80%)               0  \n",
      "5 - Highest (80% to 100%)              1  \n"
     ]
    }
   ],
   "source": [
    "# Create crosstabs\n",
    "ct2 = pd.crosstab(subset['incomequintiles'], subset['democracy'])\n",
    "print('The Number of Countries by Income Quintile and Level of Democracy')\n",
    "print(ct2)"
   ]
  },
  {
   "cell_type": "code",
   "execution_count": 20,
   "metadata": {
    "collapsed": false
   },
   "outputs": [
    {
     "name": "stdout",
     "output_type": "stream",
     "text": [
      "The Percent of Countries by Income Quintile and Level of Democracy\n",
      "democracy                  1 - Full Democracy  2 - Democracy  \\\n",
      "incomequintiles                                                \n",
      "1 - Lowest  (0% to 20%)              4.516129      34.193548   \n",
      "2 - Second  (20% to 40%)             5.806452       0.645161   \n",
      "3 - Middle  (40% to 60%)             1.290323       1.290323   \n",
      "4 - Fourth  (60% to 80%)             5.806452       0.645161   \n",
      "5 - Highest (80% to 100%)            3.225806       0.000000   \n",
      "\n",
      "democracy                  3 - Open Anocracy  4 - Closed Anocracy  \\\n",
      "incomequintiles                                                     \n",
      "1 - Lowest  (0% to 20%)            12.258065            16.129032   \n",
      "2 - Second  (20% to 40%)            0.000000             0.645161   \n",
      "3 - Middle  (40% to 60%)            0.000000             0.000000   \n",
      "4 - Fourth  (60% to 80%)            0.000000             0.000000   \n",
      "5 - Highest (80% to 100%)           0.000000             0.645161   \n",
      "\n",
      "democracy                  5 - Autocracy  \n",
      "incomequintiles                           \n",
      "1 - Lowest  (0% to 20%)         9.677419  \n",
      "2 - Second  (20% to 40%)        1.935484  \n",
      "3 - Middle  (40% to 60%)        0.645161  \n",
      "4 - Fourth  (60% to 80%)        0.000000  \n",
      "5 - Highest (80% to 100%)       0.645161  \n"
     ]
    }
   ],
   "source": [
    "pt2 = (ct2/len(subset))*100\n",
    "print('The Percent of Countries by Income Quintile and Level of Democracy')\n",
    "print(pt2)"
   ]
  },
  {
   "cell_type": "markdown",
   "metadata": {},
   "source": [
    "I observe that most countries are in the lowest gdp per capita quintile.  34% of the countries in the data set are both democracies and are in the lowest per capita GDP quintile.  Most of the countries in the highest quintile are full democracies.\n",
    "\n",
    "#### Approach 2: GDP Per Capita Quartiles by Level of Democracy"
   ]
  },
  {
   "cell_type": "code",
   "execution_count": 21,
   "metadata": {
    "collapsed": false
   },
   "outputs": [
    {
     "name": "stdout",
     "output_type": "stream",
     "text": [
      "The Number of Countries by Income Quartile and Level of Democracy\n",
      "democracy        1 - Full Democracy  2 - Democracy  3 - Open Anocracy  \\\n",
      "incomequartiles                                                         \n",
      "1 -  0% to 25%                    9             53                 19   \n",
      "2 - 25% to 50%                    8              2                  0   \n",
      "3 - 50% to 75%                    9              2                  0   \n",
      "4 - 75% to 100%                   6              0                  0   \n",
      "\n",
      "democracy        4 - Closed Anocracy  5 - Autocracy  \n",
      "incomequartiles                                      \n",
      "1 -  0% to 25%                    26             16  \n",
      "2 - 25% to 50%                     0              2  \n",
      "3 - 50% to 75%                     0              1  \n",
      "4 - 75% to 100%                    1              1  \n"
     ]
    }
   ],
   "source": [
    "ct3 = pd.crosstab(subset['incomequartiles'], subset['democracy'])\n",
    "print('The Number of Countries by Income Quartile and Level of Democracy')\n",
    "print(ct3)"
   ]
  },
  {
   "cell_type": "code",
   "execution_count": 22,
   "metadata": {
    "collapsed": false
   },
   "outputs": [
    {
     "name": "stdout",
     "output_type": "stream",
     "text": [
      "The Percent of Countries by Income Quartile and Level of Democracy\n",
      "democracy        1 - Full Democracy  2 - Democracy  3 - Open Anocracy  \\\n",
      "incomequartiles                                                         \n",
      "1 -  0% to 25%             5.806452      34.193548          12.258065   \n",
      "2 - 25% to 50%             5.161290       1.290323           0.000000   \n",
      "3 - 50% to 75%             5.806452       1.290323           0.000000   \n",
      "4 - 75% to 100%            3.870968       0.000000           0.000000   \n",
      "\n",
      "democracy        4 - Closed Anocracy  5 - Autocracy  \n",
      "incomequartiles                                      \n",
      "1 -  0% to 25%             16.774194      10.322581  \n",
      "2 - 25% to 50%              0.000000       1.290323  \n",
      "3 - 50% to 75%              0.000000       0.645161  \n",
      "4 - 75% to 100%             0.645161       0.645161  \n"
     ]
    }
   ],
   "source": [
    "pt3 = (ct3/len(subset))*100\n",
    "print('The Percent of Countries by Income Quartile and Level of Democracy')\n",
    "print(pt3)"
   ]
  },
  {
   "cell_type": "markdown",
   "metadata": {},
   "source": [
    "Breaking the data out by quartile does not produce a significantly different picture than the quintiles.  Most are in the lowest quintile. 6 of the 8 countries in the top income quartiles are full democracies."
   ]
  },
  {
   "cell_type": "markdown",
   "metadata": {},
   "source": [
    "#### Approach Number 3: Average Well-Being by Level of Democracy"
   ]
  },
  {
   "cell_type": "code",
   "execution_count": 23,
   "metadata": {
    "collapsed": false
   },
   "outputs": [
    {
     "data": {
      "text/plain": [
       "<matplotlib.text.Text at 0x22ed0f0>"
      ]
     },
     "execution_count": 23,
     "metadata": {},
     "output_type": "execute_result"
    },
    {
     "data": {
      "image/png": "[encoded data removed]",
      "text/plain": [
       "<matplotlib.figure.Figure at 0x3c88668>"
      ]
     },
     "metadata": {},
     "output_type": "display_data"
    }
   ],
   "source": [
    "sns.set_style(\"whitegrid\")\n",
    "sns.set_context(\"poster\")\n",
    "plt.figure(figsize=(14, 7))\n",
    "sns.boxplot(x=\"democracy\", y=\"incomeperperson\", data=subset)\n",
    "plt.ylabel('Economic Well Being (GDP Per Person)')\n",
    "plt.xlabel('Level of Democracy')"
   ]
  },
  {
   "cell_type": "markdown",
   "metadata": {},
   "source": [
    "I personally find the above visaulization very impactful.  One observes the higher level of economic well-being associated with the full democracy.  One also observes there are two outliers in the autocracy that are higher than the full democracy.  It might be interesting to look into these two cases as they are contrary to the working assumption of this project.  Here is the same data presented in tabular format:"
   ]
  },
  {
   "cell_type": "code",
   "execution_count": 24,
   "metadata": {
    "collapsed": false
   },
   "outputs": [
    {
     "name": "stdout",
     "output_type": "stream",
     "text": [
      "GDP Statistics by Level of Democracy\n",
      "                             mean           std        median  len\n",
      "democracy                                                         \n",
      "1 - Full Democracy   19290.403182  11585.710266  17222.013829   32\n",
      "2 - Democracy         3424.612984   4891.795845   1621.177078   57\n",
      "3 - Open Anocracy     1167.128903   1112.912373    668.547943   19\n",
      "4 - Closed Anocracy   2472.575659   6298.382567    591.067944   27\n",
      "5 - Autocracy         6113.909582   8416.873490   2385.184105   20\n"
     ]
    }
   ],
   "source": [
    "print('GDP Statistics by Level of Democracy')\n",
    "gdp_mean2 = subset.groupby('democracy')['incomeperperson'].agg([np.mean, np.std, np.median, len])\n",
    "print(gdp_mean2)"
   ]
  }
 ],
 "metadata": {
  "kernelspec": {
   "display_name": "Python 2",
   "language": "python",
   "name": "python2"
  },
  "language_info": {
   "codemirror_mode": {
    "name": "ipython",
    "version": 2
   },
   "file_extension": ".py",
   "mimetype": "text/x-python",
   "name": "python",
   "nbconvert_exporter": "python",
   "pygments_lexer": "ipython2",
   "version": "2.7.10"
  }
 },
 "nbformat": 4,
 "nbformat_minor": 0
}
