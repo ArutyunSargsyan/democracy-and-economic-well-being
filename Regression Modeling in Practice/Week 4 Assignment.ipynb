{
 "cells": [
  {
   "cell_type": "markdown",
   "metadata": {},
   "source": [
    "# Week 4 Assignment\n",
    "\n",
    "This week's assignment is to test a logistic regression model.\n",
    "\n",
    "## Data Management"
   ]
  },
  {
   "cell_type": "code",
   "execution_count": 1,
   "metadata": {
    "collapsed": false
   },
   "outputs": [],
   "source": [
    "import numpy as np\n",
    "import pandas as pd\n",
    "import matplotlib.pyplot as plt\n",
    "import statsmodels.api as sm\n",
    "import statsmodels.formula.api as smf\n",
    "\n",
    "# bug fix for display formats to avoid run time errors\n",
    "pd.set_option('display.float_format', lambda x:'%.2f'%x)\n",
    "\n",
    "df = pd.read_csv('gapminder.csv')\n",
    "\n",
    "# convert to numeric format\n",
    "df['incomeperperson'] = pd.to_numeric(df['incomeperperson'], errors='coerce')\n",
    "df['polityscore'] = pd.to_numeric(df['polityscore'], errors='coerce')\n",
    "df['urbanrate'] = pd.to_numeric(df['urbanrate'], errors='coerce')\n",
    "\n",
    "# listwise deletion of missing values\n",
    "subset = df[['incomeperperson', 'polityscore', 'urbanrate']].dropna()"
   ]
  },
  {
   "cell_type": "markdown",
   "metadata": {},
   "source": [
    "### Convert Polity Score\n",
    "\n",
    "Since there are 21 polity score categories I chose to compress them into the 5 categories specified by the Polity IV project author's."
   ]
  },
  {
   "cell_type": "code",
   "execution_count": 2,
   "metadata": {
    "collapsed": false
   },
   "outputs": [
    {
     "name": "stdout",
     "output_type": "stream",
     "text": [
      "full_democracy\n",
      "0    123\n",
      "1     32\n",
      "dtype: int64\n"
     ]
    }
   ],
   "source": [
    "# This function converts the polity score to a category\n",
    "def convert_polityscore_to_category(polityscore):\n",
    "    if polityscore == 10:\n",
    "        return 1\n",
    "    else:\n",
    "        return 0\n",
    "\n",
    "# Now we can use the function to create the new variable\n",
    "subset['full_democracy'] = subset['polityscore'].apply(convert_polityscore_to_category)\n",
    "\n",
    "counts = subset.groupby('full_democracy').size()\n",
    "print(counts)"
   ]
  },
  {
   "cell_type": "markdown",
   "metadata": {},
   "source": [
    "### Create High Income Binary Variable (Response Variable)\n",
    "\n",
    "Since I am doing a logistic regression I need to bin up the income variable into two categories."
   ]
  },
  {
   "cell_type": "code",
   "execution_count": 3,
   "metadata": {
    "collapsed": false
   },
   "outputs": [
    {
     "name": "stdout",
     "output_type": "stream",
     "text": [
      "6604.574358\n"
     ]
    }
   ],
   "source": [
    "# Create a threshold\n",
    "income_threshold = np.mean(subset['incomeperperson'])\n",
    "print(income_threshold)"
   ]
  },
  {
   "cell_type": "code",
   "execution_count": 4,
   "metadata": {
    "collapsed": false
   },
   "outputs": [
    {
     "name": "stdout",
     "output_type": "stream",
     "text": [
      "high_income\n",
      "0    116\n",
      "1     39\n",
      "dtype: int64\n"
     ]
    }
   ],
   "source": [
    "# Set binary flag that income per person is greater than the threshold\n",
    "def income_higher_than_threshold(income):\n",
    "    if income > income_threshold:\n",
    "        return 1\n",
    "    else:\n",
    "        return 0\n",
    "\n",
    "subset['high_income'] = subset['incomeperperson'].apply(income_higher_than_threshold)\n",
    "\n",
    "counts = subset.groupby('high_income').size()\n",
    "print(counts)"
   ]
  },
  {
   "cell_type": "markdown",
   "metadata": {},
   "source": [
    "### Create Urbanization Binary Variable (Possible Confounding Response Variable)\n",
    "\n",
    "Since I am doing a logistic regression I need to bin up the urbanization variable into two categories."
   ]
  },
  {
   "cell_type": "code",
   "execution_count": 5,
   "metadata": {
    "collapsed": false
   },
   "outputs": [
    {
     "name": "stdout",
     "output_type": "stream",
     "text": [
      "55.1077419355\n"
     ]
    }
   ],
   "source": [
    "# Create a threshold\n",
    "urbanization_threshold = np.mean(subset['urbanrate'])\n",
    "print(urbanization_threshold)"
   ]
  },
  {
   "cell_type": "code",
   "execution_count": 6,
   "metadata": {
    "collapsed": false
   },
   "outputs": [
    {
     "name": "stdout",
     "output_type": "stream",
     "text": [
      "high_urbanrate\n",
      "0    71\n",
      "1    84\n",
      "dtype: int64\n"
     ]
    }
   ],
   "source": [
    "# Set binary flag that urbanization rate is greater than the threshold\n",
    "def urbanrate_higher_than_threshold(urbanrate):\n",
    "    if urbanrate > urbanization_threshold:\n",
    "        return 1\n",
    "    else:\n",
    "        return 0\n",
    "\n",
    "subset['high_urbanrate'] = subset['urbanrate'].apply(urbanrate_higher_than_threshold)\n",
    "\n",
    "counts = subset.groupby('high_urbanrate').size()\n",
    "print(counts)"
   ]
  },
  {
   "cell_type": "markdown",
   "metadata": {},
   "source": [
    "## Logistic Regression Model\n",
    "\n",
    "Now I will create a simple logistic regression model that will test the relationship between being in a higher than average income class and the type of society."
   ]
  },
  {
   "cell_type": "code",
   "execution_count": 7,
   "metadata": {
    "collapsed": false
   },
   "outputs": [
    {
     "name": "stdout",
     "output_type": "stream",
     "text": [
      "Optimization terminated successfully.\n",
      "         Current function value: 0.389711\n",
      "         Iterations 6\n",
      "                           Logit Regression Results                           \n",
      "==============================================================================\n",
      "Dep. Variable:            high_income   No. Observations:                  155\n",
      "Model:                          Logit   Df Residuals:                      153\n",
      "Method:                           MLE   Df Model:                            1\n",
      "Date:                Sat, 19 Dec 2015   Pseudo R-squ.:                  0.3091\n",
      "Time:                        12:23:56   Log-Likelihood:                -60.405\n",
      "converged:                       True   LL-Null:                       -87.436\n",
      "                                        LLR p-value:                 1.944e-13\n",
      "==================================================================================\n",
      "                     coef    std err          z      P>|z|      [95.0% Conf. Int.]\n",
      "----------------------------------------------------------------------------------\n",
      "Intercept         -2.0523      0.284     -7.229      0.000        -2.609    -1.496\n",
      "full_democracy     3.3253      0.513      6.478      0.000         2.319     4.331\n",
      "==================================================================================\n"
     ]
    }
   ],
   "source": [
    "# logistic regression with society type\n",
    "lreg1 = smf.logit(formula = 'high_income ~ full_democracy', data = subset).fit()\n",
    "print (lreg1.summary())"
   ]
  },
  {
   "cell_type": "code",
   "execution_count": 8,
   "metadata": {
    "collapsed": false
   },
   "outputs": [
    {
     "name": "stdout",
     "output_type": "stream",
     "text": [
      "                Lower CI  Upper CI    OR\n",
      "Intercept           0.07      0.22  0.13\n",
      "full_democracy     10.17     76.04 27.81\n"
     ]
    }
   ],
   "source": [
    "# odd ratios with 95% confidence intervals\n",
    "params = lreg1.params\n",
    "conf = lreg1.conf_int()\n",
    "conf['OR'] = params\n",
    "conf.columns = ['Lower CI', 'Upper CI', 'OR']\n",
    "print (np.exp(conf))"
   ]
  },
  {
   "cell_type": "markdown",
   "metadata": {},
   "source": [
    "### Is Urban Rate a Confounder?"
   ]
  },
  {
   "cell_type": "code",
   "execution_count": 9,
   "metadata": {
    "collapsed": false
   },
   "outputs": [
    {
     "name": "stdout",
     "output_type": "stream",
     "text": [
      "Optimization terminated successfully.\n",
      "         Current function value: 0.342689\n",
      "         Iterations 7\n",
      "                           Logit Regression Results                           \n",
      "==============================================================================\n",
      "Dep. Variable:            high_income   No. Observations:                  155\n",
      "Model:                          Logit   Df Residuals:                      152\n",
      "Method:                           MLE   Df Model:                            2\n",
      "Date:                Sat, 19 Dec 2015   Pseudo R-squ.:                  0.3925\n",
      "Time:                        12:23:56   Log-Likelihood:                -53.117\n",
      "converged:                       True   LL-Null:                       -87.436\n",
      "                                        LLR p-value:                 1.246e-15\n",
      "==================================================================================\n",
      "                     coef    std err          z      P>|z|      [95.0% Conf. Int.]\n",
      "----------------------------------------------------------------------------------\n",
      "Intercept         -3.5056      0.636     -5.509      0.000        -4.753    -2.258\n",
      "full_democracy     2.8388      0.544      5.216      0.000         1.772     3.905\n",
      "high_urbanrate     2.2312      0.678      3.291      0.001         0.903     3.560\n",
      "==================================================================================\n"
     ]
    }
   ],
   "source": [
    "# logistic regression with society type and urbanization rate\n",
    "lreg2 = smf.logit(formula = 'high_income ~ full_democracy + high_urbanrate', data = subset).fit()\n",
    "print (lreg2.summary())"
   ]
  },
  {
   "cell_type": "code",
   "execution_count": 10,
   "metadata": {
    "collapsed": false
   },
   "outputs": [
    {
     "name": "stdout",
     "output_type": "stream",
     "text": [
      "                Lower CI  Upper CI    OR\n",
      "Intercept           0.01      0.10  0.03\n",
      "full_democracy      5.88     49.67 17.09\n",
      "high_urbanrate      2.47     35.16  9.31\n"
     ]
    }
   ],
   "source": [
    "# odd ratios with 95% confidence intervals\n",
    "params = lreg2.params\n",
    "conf = lreg2.conf_int()\n",
    "conf['OR'] = params\n",
    "conf.columns = ['Lower CI', 'Upper CI', 'OR']\n",
    "print (np.exp(conf))"
   ]
  }
 ],
 "metadata": {
  "kernelspec": {
   "display_name": "Python 2",
   "language": "python",
   "name": "python2"
  },
  "language_info": {
   "codemirror_mode": {
    "name": "ipython",
    "version": 2
   },
   "file_extension": ".py",
   "mimetype": "text/x-python",
   "name": "python",
   "nbconvert_exporter": "python",
   "pygments_lexer": "ipython2",
   "version": "2.7.11"
  }
 },
 "nbformat": 4,
 "nbformat_minor": 0
}
