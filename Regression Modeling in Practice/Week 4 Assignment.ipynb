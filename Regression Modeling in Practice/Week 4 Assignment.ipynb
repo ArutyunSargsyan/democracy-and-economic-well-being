{
 "cells": [
  {
   "cell_type": "markdown",
   "metadata": {},
   "source": [
    "# Week 4 Assignment\n",
    "\n",
    "This week's assignment is to test a logistic regression model.\n",
    "\n",
    "## Data Management"
   ]
  },
  {
   "cell_type": "code",
   "execution_count": 1,
   "metadata": {
    "collapsed": false
   },
   "outputs": [
    {
     "name": "stderr",
     "output_type": "stream",
     "text": [
      "E:\\Anaconda2\\lib\\site-packages\\matplotlib\\__init__.py:872: UserWarning: axes.color_cycle is deprecated and replaced with axes.prop_cycle; please use the latter.\n",
      "  warnings.warn(self.msg_depr % (key, alt_key))\n"
     ]
    }
   ],
   "source": [
    "%matplotlib inline\n",
    "import numpy as np\n",
    "import pandas as pd\n",
    "import matplotlib.pyplot as plt\n",
    "import statsmodels.api as sm\n",
    "import statsmodels.formula.api as smf\n",
    "import seaborn as sns\n",
    "sns.set_style('whitegrid')\n",
    "sns.set_context('talk')\n",
    "\n",
    "# bug fix for display formats to avoid run time errors\n",
    "pd.set_option('display.float_format', lambda x:'%.2f'%x)\n",
    "\n",
    "df = pd.read_csv('gapminder.csv')\n",
    "\n",
    "# convert to numeric format\n",
    "df['incomeperperson'] = pd.to_numeric(df['incomeperperson'], errors='coerce')\n",
    "df['polityscore'] = pd.to_numeric(df['polityscore'], errors='coerce')\n",
    "df['urbanrate'] = pd.to_numeric(df['urbanrate'], errors='coerce')\n",
    "\n",
    "# listwise deletion of missing values\n",
    "subset = df[['incomeperperson', 'polityscore', 'urbanrate']].dropna()"
   ]
  },
  {
   "cell_type": "markdown",
   "metadata": {},
   "source": [
    "### Convert Polity Score\n",
    "\n",
    "Since there are 21 polity score categories I chose to compress them into the 5 categories specified by the Polity IV project author's."
   ]
  },
  {
   "cell_type": "code",
   "execution_count": 2,
   "metadata": {
    "collapsed": false
   },
   "outputs": [
    {
     "name": "stderr",
     "output_type": "stream",
     "text": [
      "E:\\Anaconda2\\lib\\site-packages\\matplotlib\\__init__.py:892: UserWarning: axes.color_cycle is deprecated and replaced with axes.prop_cycle; please use the latter.\n",
      "  warnings.warn(self.msg_depr % (key, alt_key))\n"
     ]
    },
    {
     "data": {
      "text/plain": [
       "<matplotlib.text.Text at 0x221f1d0>"
      ]
     },
     "execution_count": 2,
     "metadata": {},
     "output_type": "execute_result"
    },
    {
     "data": {
      "image/png": "[encoded data removed]",
      "text/plain": [
       "<matplotlib.figure.Figure at 0x3a13ac8>"
      ]
     },
     "metadata": {},
     "output_type": "display_data"
    }
   ],
   "source": [
    "# This function converts the polity score to a category\n",
    "def convert_polityscore_to_category(score):\n",
    "    #if score == 10:\n",
    "    #    return('1-Full Democracy')\n",
    "    #elif score > 5:\n",
    "    #    return('2-Democracy')\n",
    "    #elif score > 0:\n",
    "    #    return ('3-Open Anocracy')\n",
    "    #elif score > -6:\n",
    "    #    return ('4-Closed Anocracy')\n",
    "    #else:\n",
    "    #    return('5-Autocracy')\n",
    "    if score == 10:\n",
    "        return('Full Democracy')\n",
    "    else:\n",
    "        return('Something Else')\n",
    "\n",
    "# Now we can use the function to create the new variable\n",
    "subset['SocietyType'] = subset['polityscore'].apply(convert_polityscore_to_category)\n",
    "subset['SocietyType'] = subset['SocietyType'].astype('category')\n",
    "\n",
    "# Create bar chart\n",
    "sns.countplot(x='SocietyType', data=subset)\n",
    "plt.ylabel('Count')\n",
    "plt.xlabel('')"
   ]
  },
  {
   "cell_type": "markdown",
   "metadata": {},
   "source": [
    "### Create Higher than Average Income Binary Variable\n",
    "\n",
    "Since I am doing a logistic regression I need to bin up the income variable into two categories.  I have decided to use the mean as the threshold."
   ]
  },
  {
   "cell_type": "code",
   "execution_count": 3,
   "metadata": {
    "collapsed": true
   },
   "outputs": [],
   "source": [
    "# Set binary flag that income per person is greater than the mean\n",
    "avg_income = np.mean(subset['incomeperperson'])\n",
    "def higher_than_average_income(income):\n",
    "    if income > avg_income:\n",
    "        return 1\n",
    "    else:\n",
    "        return 0\n",
    "\n",
    "subset['higher_than_average_income'] = subset['incomeperperson'].apply(higher_than_average_income)"
   ]
  },
  {
   "cell_type": "code",
   "execution_count": 4,
   "metadata": {
    "collapsed": false
   },
   "outputs": [
    {
     "name": "stdout",
     "output_type": "stream",
     "text": [
      "higher_than_average_income\n",
      "0    116\n",
      "1     39\n",
      "dtype: int64\n"
     ]
    }
   ],
   "source": [
    "counts = subset.groupby('higher_than_average_income').size()\n",
    "print(counts)"
   ]
  },
  {
   "cell_type": "markdown",
   "metadata": {},
   "source": [
    "## Logistic Regression Model\n",
    "\n",
    "Now I will create a simple logistic regression model that will test the relationship between being in a higher than average income class and the type of society."
   ]
  },
  {
   "cell_type": "code",
   "execution_count": 5,
   "metadata": {
    "collapsed": false
   },
   "outputs": [
    {
     "name": "stdout",
     "output_type": "stream",
     "text": [
      "Optimization terminated successfully.\n",
      "         Current function value: 0.389711\n",
      "         Iterations 6\n",
      "                               Logit Regression Results                               \n",
      "======================================================================================\n",
      "Dep. Variable:     higher_than_average_income   No. Observations:                  155\n",
      "Model:                                  Logit   Df Residuals:                      153\n",
      "Method:                                   MLE   Df Model:                            1\n",
      "Date:                        Fri, 18 Dec 2015   Pseudo R-squ.:                  0.3091\n",
      "Time:                                14:41:29   Log-Likelihood:                -60.405\n",
      "converged:                               True   LL-Null:                       -87.436\n",
      "                                                LLR p-value:                 1.944e-13\n",
      "====================================================================================================\n",
      "                                       coef    std err          z      P>|z|      [95.0% Conf. Int.]\n",
      "----------------------------------------------------------------------------------------------------\n",
      "Intercept                            1.2730      0.428      2.977      0.003         0.435     2.111\n",
      "C(SocietyType)[T.Something Else]    -3.3253      0.513     -6.478      0.000        -4.331    -2.319\n",
      "====================================================================================================\n"
     ]
    }
   ],
   "source": [
    "# logistic regression with society type\n",
    "lreg1 = smf.logit(formula = 'higher_than_average_income ~ C(SocietyType)', data = subset).fit()\n",
    "print (lreg1.summary())"
   ]
  },
  {
   "cell_type": "code",
   "execution_count": 6,
   "metadata": {
    "collapsed": false
   },
   "outputs": [
    {
     "name": "stdout",
     "output_type": "stream",
     "text": [
      "                                  Lower CI  Upper CI   OR\n",
      "Intercept                             1.54      8.26 3.57\n",
      "C(SocietyType)[T.Something Else]      0.01      0.10 0.04\n"
     ]
    }
   ],
   "source": [
    "# odd ratios with 95% confidence intervals\n",
    "params = lreg1.params\n",
    "conf = lreg1.conf_int()\n",
    "conf['OR'] = params\n",
    "conf.columns = ['Lower CI', 'Upper CI', 'OR']\n",
    "print (np.exp(conf))"
   ]
  },
  {
   "cell_type": "markdown",
   "metadata": {},
   "source": [
    "### Is Urban Rate a Confounder?"
   ]
  },
  {
   "cell_type": "code",
   "execution_count": 7,
   "metadata": {
    "collapsed": false
   },
   "outputs": [
    {
     "name": "stdout",
     "output_type": "stream",
     "text": [
      "Optimization terminated successfully.\n",
      "         Current function value: 0.283642\n",
      "         Iterations 8\n",
      "                               Logit Regression Results                               \n",
      "======================================================================================\n",
      "Dep. Variable:     higher_than_average_income   No. Observations:                  155\n",
      "Model:                                  Logit   Df Residuals:                      152\n",
      "Method:                                   MLE   Df Model:                            2\n",
      "Date:                        Fri, 18 Dec 2015   Pseudo R-squ.:                  0.4972\n",
      "Time:                                14:41:30   Log-Likelihood:                -43.965\n",
      "converged:                               True   LL-Null:                       -87.436\n",
      "                                                LLR p-value:                 1.321e-19\n",
      "====================================================================================================\n",
      "                                       coef    std err          z      P>|z|      [95.0% Conf. Int.]\n",
      "----------------------------------------------------------------------------------------------------\n",
      "Intercept                           -4.3174      1.330     -3.246      0.001        -6.924    -1.711\n",
      "C(SocietyType)[T.Something Else]    -3.1195      0.610     -5.114      0.000        -4.315    -1.924\n",
      "urbanrate                            0.0841      0.019      4.400      0.000         0.047     0.122\n",
      "====================================================================================================\n"
     ]
    }
   ],
   "source": [
    "# logistic regression with society type and urbanization rate\n",
    "lreg2 = smf.logit(formula = 'higher_than_average_income ~ C(SocietyType) + urbanrate', data = subset).fit()\n",
    "print (lreg2.summary())"
   ]
  },
  {
   "cell_type": "code",
   "execution_count": 8,
   "metadata": {
    "collapsed": false
   },
   "outputs": [
    {
     "name": "stdout",
     "output_type": "stream",
     "text": [
      "                                  Lower CI  Upper CI   OR\n",
      "Intercept                             0.00      0.18 0.01\n",
      "C(SocietyType)[T.Something Else]      0.01      0.15 0.04\n",
      "urbanrate                             1.05      1.13 1.09\n"
     ]
    }
   ],
   "source": [
    "# odd ratios with 95% confidence intervals\n",
    "params = lreg2.params\n",
    "conf = lreg2.conf_int()\n",
    "conf['OR'] = params\n",
    "conf.columns = ['Lower CI', 'Upper CI', 'OR']\n",
    "print (np.exp(conf))"
   ]
  }
 ],
 "metadata": {
  "kernelspec": {
   "display_name": "Python 2",
   "language": "python",
   "name": "python2"
  },
  "language_info": {
   "codemirror_mode": {
    "name": "ipython",
    "version": 2
   },
   "file_extension": ".py",
   "mimetype": "text/x-python",
   "name": "python",
   "nbconvert_exporter": "python",
   "pygments_lexer": "ipython2",
   "version": "2.7.11"
  }
 },
 "nbformat": 4,
 "nbformat_minor": 0
}
