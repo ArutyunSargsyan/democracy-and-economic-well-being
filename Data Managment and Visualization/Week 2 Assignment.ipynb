{
 "cells": [
  {
   "cell_type": "markdown",
   "metadata": {},
   "source": [
    "# Week 2 Assignment\n",
    "## Overview\n",
    "The following is a simple exploratory data analysis of the GapMinder data set as part of the Coursera Data Management and Visualization course.  In this analysis I would like to examine the relationship between the economic well-being of a society and the level of democratization.\n",
    "\n",
    "## About the Data\n",
    "The data for this analysis comes from a subset of the GapMider project data.  In this section I will examine the variables I am interested in more detail.\n",
    "\n",
    "### Income per Person\n",
    "In order to measure the economic well-being I will be using GDP per capita data.  This originally came from the World Bank.  It is gross domestic product divided by midyear population. GDP is the sum of gross value added by all resident producers in the economy plus any product taxes and minus any subsidies not included in the value of the products. It is calculated without making deductions for depreciation of fabricated assets or for depletion and degradation of natural resources.  The data are in constant 2000 US Dollars.  The GapMinder data set that I will be analyzing is the 2010 GDP per capita.\n",
    "\n",
    "### Democracy Score\n",
    "The democracy score comes from the Polity IV project.  It is a summary measure of a country's democratic and free nature. -10 is the lowest value, 10 the highest.  The GapMinder data set that I will analyzing is the polity score for 2009.  To get a feel for this data take a look at the following figure provided by the Polity IV project authors:\n",
    "\n",
    "![polity categories](http://www.systemicpeace.org/polity/demmap13.jpg)\n",
    "\n",
    "### Democracy Categories\n",
    "Since the democracy score ranges from -10 to 10 there will be 21 values.  This will be a bit unruly so I will create a new variable using the democracy categories detailed in the map legend above.\n",
    "\n",
    "## Preprocessing the Data\n",
    "I begin by importing the libraries needed for the analysis:"
   ]
  },
  {
   "cell_type": "code",
   "execution_count": 1,
   "metadata": {
    "collapsed": true
   },
   "outputs": [],
   "source": [
    "# Import libraries needed\n",
    "import pandas as pd\n",
    "import numpy as np"
   ]
  },
  {
   "cell_type": "markdown",
   "metadata": {},
   "source": [
    "Now I have python parse the csv file and print out some basic statistics about the data frame (df):"
   ]
  },
  {
   "cell_type": "code",
   "execution_count": 2,
   "metadata": {
    "collapsed": false
   },
   "outputs": [
    {
     "name": "stdout",
     "output_type": "stream",
     "text": [
      "Number of observations: 213 (rows)\n",
      "Number of variables: 16 (columns)\n"
     ]
    }
   ],
   "source": [
    "# Read in the Data\n",
    "df = pd.read_csv('gapminder.csv', low_memory=False)\n",
    "\n",
    "# Print some basic statistics\n",
    "n = str(len(df))\n",
    "cols = str(len(df.columns))\n",
    "print('Number of observations: '+ n +' (rows)')\n",
    "print('Number of variables: '+ cols +' (columns)')"
   ]
  },
  {
   "cell_type": "markdown",
   "metadata": {},
   "source": [
    "There are 213 observations with 16 variables in the data frame.  I need to clean up the raw data prior to the analysis.  I will first change the varaible types for the variables of interst:"
   ]
  },
  {
   "cell_type": "code",
   "execution_count": 3,
   "metadata": {
    "collapsed": true
   },
   "outputs": [],
   "source": [
    "# Change the data type for variables of interest\n",
    "df['polityscore'] = df['polityscore'].convert_objects(convert_numeric=True)\n",
    "df['incomeperperson'] = df['incomeperperson'].convert_objects(convert_numeric=True)"
   ]
  },
  {
   "cell_type": "markdown",
   "metadata": {},
   "source": [
    "I want to see how many missing observations there are in the variables of interest:"
   ]
  },
  {
   "cell_type": "code",
   "execution_count": 4,
   "metadata": {
    "collapsed": false
   },
   "outputs": [
    {
     "name": "stdout",
     "output_type": "stream",
     "text": [
      "Countries with a Democracy Score: 161 out of 213 (52 missing)\n",
      "Countries with a GDP Per Capita: 190 out of 213 (23 missing)\n"
     ]
    }
   ],
   "source": [
    "print ('Countries with a Democracy Score: ' + str(df['polityscore'].count()) + ' out of ' + str(len(df)) + ' (' + str(len(df) - df['polityscore'].count()) + ' missing)')\n",
    "print ('Countries with a GDP Per Capita: ' + str(df['incomeperperson'].count()) + ' out of ' + str(len(df)) + ' (' + str(len(df) - df['incomeperperson'].count()) + ' missing)')"
   ]
  },
  {
   "cell_type": "markdown",
   "metadata": {},
   "source": [
    "I need to have a set of data with both variables of interest so I will subset the data frame:"
   ]
  },
  {
   "cell_type": "code",
   "execution_count": 5,
   "metadata": {
    "collapsed": false
   },
   "outputs": [
    {
     "name": "stdout",
     "output_type": "stream",
     "text": [
      "Number of observations: 155 (rows)\n"
     ]
    }
   ],
   "source": [
    "# Get the rows not missing a value\n",
    "subset = df[np.isfinite(df['polityscore'])]\n",
    "subset = subset[np.isfinite(subset['incomeperperson'])]\n",
    "print('Number of observations: '+ str(len(subset)) +' (rows)')"
   ]
  },
  {
   "cell_type": "markdown",
   "metadata": {},
   "source": [
    "155 of the 213 records have complete data.  Now I will create my new variable for the democracy score categories.  I will do this by defining a function and then using that function to create the new variable:"
   ]
  },
  {
   "cell_type": "code",
   "execution_count": 6,
   "metadata": {
    "collapsed": true
   },
   "outputs": [],
   "source": [
    "# This function converts the polity score to a category\n",
    "def convert_polityscore_to_category(score):\n",
    "    if score == 10:\n",
    "        return('1 - Full Democracy')\n",
    "    elif score > 5:\n",
    "        return('2 - Democracy')\n",
    "    elif score > 0:\n",
    "        return ('3 - Open Anocracy')\n",
    "    elif score > -6:\n",
    "        return ('4 - Closed Anocracy')\n",
    "    else:\n",
    "        return('5 - Autocracy')\n",
    "\n",
    "# Now we can use the function to create the new variable\n",
    "subset['democracy'] = subset['polityscore'].apply(convert_polityscore_to_category)"
   ]
  },
  {
   "cell_type": "markdown",
   "metadata": {},
   "source": [
    "I also need to make a change to the GDP per capita.  Since GDP per person is a continuous varible I will need to create a discrete one. For this assignment I will create quintiles:"
   ]
  },
  {
   "cell_type": "code",
   "execution_count": 7,
   "metadata": {
    "collapsed": true
   },
   "outputs": [],
   "source": [
    "subset['incomequintiles'] = pd.cut(subset['incomeperperson'], 5, labels=['Lowest','Second','Middle','Fourth','Highest'])"
   ]
  },
  {
   "cell_type": "markdown",
   "metadata": {},
   "source": [
    "## Exploratory Data Analysis\n",
    "### 2009 Democracy Score\n",
    "The first variable of interest it the polityscore variable.  This variable is a measure of the level of openess of the country."
   ]
  },
  {
   "cell_type": "code",
   "execution_count": 8,
   "metadata": {
    "collapsed": false
   },
   "outputs": [
    {
     "name": "stdout",
     "output_type": "stream",
     "text": [
      "Countries by Democracy Score (-10=autocracy & 10=full democracy)\n",
      "polityscore\n",
      "-10     2\n",
      "-9      3\n",
      "-8      2\n",
      "-7     11\n",
      "-6      2\n",
      "-5      2\n",
      "-4      6\n",
      "-3      6\n",
      "-2      5\n",
      "-1      4\n",
      " 0      4\n",
      " 1      3\n",
      " 2      3\n",
      " 3      2\n",
      " 4      4\n",
      " 5      7\n",
      " 6     10\n",
      " 7     13\n",
      " 8     19\n",
      " 9     15\n",
      " 10    32\n",
      "dtype: int64\n"
     ]
    }
   ],
   "source": [
    "print('Countries by Democracy Score (-10=autocracy & 10=full democracy)')\n",
    "polity_counts = subset.groupby('polityscore').size()\n",
    "print(polity_counts)"
   ]
  },
  {
   "cell_type": "code",
   "execution_count": 9,
   "metadata": {
    "collapsed": false
   },
   "outputs": [
    {
     "name": "stdout",
     "output_type": "stream",
     "text": [
      "Percent of Countries by Democracy Score\n",
      "polityscore\n",
      "-10     1.290323\n",
      "-9      1.935484\n",
      "-8      1.290323\n",
      "-7      7.096774\n",
      "-6      1.290323\n",
      "-5      1.290323\n",
      "-4      3.870968\n",
      "-3      3.870968\n",
      "-2      3.225806\n",
      "-1      2.580645\n",
      " 0      2.580645\n",
      " 1      1.935484\n",
      " 2      1.935484\n",
      " 3      1.290323\n",
      " 4      2.580645\n",
      " 5      4.516129\n",
      " 6      6.451613\n",
      " 7      8.387097\n",
      " 8     12.258065\n",
      " 9      9.677419\n",
      " 10    20.645161\n",
      "dtype: float64\n"
     ]
    }
   ],
   "source": [
    "print('Percent of Countries by Democracy Score')\n",
    "polity_percents = polity_counts * 100 / len(subset)\n",
    "print(polity_percents)"
   ]
  },
  {
   "cell_type": "markdown",
   "metadata": {},
   "source": [
    "There are 32 countries that are full democracies (have a polity score of 10).  This is roughly 21% of all the data.  There are 2 observations that are autocracies. It seems like most of the countries are greater than zero.  I would like to see how many so I will compute a quick percentage:"
   ]
  },
  {
   "cell_type": "code",
   "execution_count": 10,
   "metadata": {
    "collapsed": false
   },
   "outputs": [
    {
     "name": "stdout",
     "output_type": "stream",
     "text": [
      "Number of countries with a Polity score greater than zero: 108\n",
      "Percent of countries with a Polity score greater than zero: 69%\n"
     ]
    }
   ],
   "source": [
    "greater_than_zero =subset[subset['polityscore'] > 0]\n",
    "greater_than_zero_percent = len(greater_than_zero) * 100 / len(subset)\n",
    "print('Number of countries with a Polity score greater than zero: ' + str(len(greater_than_zero)))\n",
    "print('Percent of countries with a Polity score greater than zero: ' + str(greater_than_zero_percent) + '%')"
   ]
  },
  {
   "cell_type": "markdown",
   "metadata": {},
   "source": [
    "108 of the 155 countries in this data set have some degree of openness.  That makes up over half of the data (69%)."
   ]
  },
  {
   "cell_type": "markdown",
   "metadata": {},
   "source": [
    "### 2010 GDP Per Person Quintiles\n",
    "The second variable of interest is the measure of economic well-being.  The most common way to measure economic well-being is using per capita GDP, although it is not a perfect measure.  As previously noted it is the 2010 percapita GDP denoted in 2000 US dollars.  "
   ]
  },
  {
   "cell_type": "code",
   "execution_count": 11,
   "metadata": {
    "collapsed": false
   },
   "outputs": [
    {
     "name": "stdout",
     "output_type": "stream",
     "text": [
      "Countries by Per Capita GDP Quintiles\n",
      "incomequintiles\n",
      "Lowest     119\n",
      "Second      14\n",
      "Middle       5\n",
      "Fourth      10\n",
      "Highest      7\n",
      "dtype: int64\n"
     ]
    }
   ],
   "source": [
    "print('Countries by Per Capita GDP Quintiles')\n",
    "incomequintiles_counts = subset.groupby('incomequintiles').size()\n",
    "print(incomequintiles_counts)"
   ]
  },
  {
   "cell_type": "code",
   "execution_count": 12,
   "metadata": {
    "collapsed": false
   },
   "outputs": [
    {
     "name": "stdout",
     "output_type": "stream",
     "text": [
      "Percent of Countries by Per Capita Quintiles\n",
      "incomequintiles\n",
      "Lowest     76.774194\n",
      "Second      9.032258\n",
      "Middle      3.225806\n",
      "Fourth      6.451613\n",
      "Highest     4.516129\n",
      "dtype: float64\n"
     ]
    }
   ],
   "source": [
    "print('Percent of Countries by Per Capita Quintiles')\n",
    "incomequintiles_percents = incomequintiles_counts * 100 / len(subset)\n",
    "print(incomequintiles_percents)"
   ]
  },
  {
   "cell_type": "markdown",
   "metadata": {},
   "source": [
    "The data is clustered around the lower end.  We see that 119 (roughly 77%) of the observations are in the lowest quintile.  There are seven that are in the highest quintile."
   ]
  },
  {
   "cell_type": "markdown",
   "metadata": {},
   "source": [
    "### 2009 Democracy Categories\n",
    "The final variable that I will examine is the one that I created summarizing the 21 Polity Iv score values into five categories:"
   ]
  },
  {
   "cell_type": "code",
   "execution_count": 13,
   "metadata": {
    "collapsed": false
   },
   "outputs": [
    {
     "name": "stdout",
     "output_type": "stream",
     "text": [
      "Countries by Democracy Category\n",
      "democracy\n",
      "1 - Full Democracy     32\n",
      "2 - Democracy          57\n",
      "3 - Open Anocracy      19\n",
      "4 - Closed Anocracy    27\n",
      "5 - Autocracy          20\n",
      "dtype: int64\n"
     ]
    }
   ],
   "source": [
    "print('Countries by Democracy Category')\n",
    "democracy_counts = subset.groupby('democracy').size()\n",
    "print(democracy_counts)"
   ]
  },
  {
   "cell_type": "code",
   "execution_count": 14,
   "metadata": {
    "collapsed": false
   },
   "outputs": [
    {
     "name": "stdout",
     "output_type": "stream",
     "text": [
      "Percent of Countries by Democracy Category\n",
      "democracy\n",
      "1 - Full Democracy     20.645161\n",
      "2 - Democracy          36.774194\n",
      "3 - Open Anocracy      12.258065\n",
      "4 - Closed Anocracy    17.419355\n",
      "5 - Autocracy          12.903226\n",
      "dtype: float64\n"
     ]
    }
   ],
   "source": [
    "print('Percent of Countries by Democracy Category')\n",
    "democracy_percents = democracy_counts * 100 / len(subset)\n",
    "print(democracy_percents)"
   ]
  },
  {
   "cell_type": "markdown",
   "metadata": {},
   "source": [
    "Most of the countries in my data set fall into the \"Democracy\" category followed by \"Full Democracy.\"  47 of the 155 countries are closed."
   ]
  }
 ],
 "metadata": {
  "kernelspec": {
   "display_name": "Python 2",
   "language": "python",
   "name": "python2"
  },
  "language_info": {
   "codemirror_mode": {
    "name": "ipython",
    "version": 2
   },
   "file_extension": ".py",
   "mimetype": "text/x-python",
   "name": "python",
   "nbconvert_exporter": "python",
   "pygments_lexer": "ipython2",
   "version": "2.7.9"
  }
 },
 "nbformat": 4,
 "nbformat_minor": 0
}
