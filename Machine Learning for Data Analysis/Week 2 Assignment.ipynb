{
 "cells": [
  {
   "cell_type": "code",
   "execution_count": 1,
   "metadata": {
    "collapsed": false
   },
   "outputs": [
    {
     "name": "stdout",
     "output_type": "stream",
     "text": [
      "Size of study data\n",
      "(148, 9)\n"
     ]
    }
   ],
   "source": [
    "%matplotlib inline\n",
    "# Import libraries needed\n",
    "import pandas as pd\n",
    "import numpy as np\n",
    "import sklearn as sk\n",
    "import matplotlib.pyplot as plt\n",
    "from sklearn.cross_validation import train_test_split\n",
    "from sklearn.ensemble import RandomForestClassifier\n",
    "from sklearn.ensemble import ExtraTreesClassifier\n",
    "\n",
    "# Make results reproducible\n",
    "np.random.seed(1234567890)\n",
    "n_estimators=25\n",
    "\n",
    "df = pd.read_csv('gapminder.csv')\n",
    "\n",
    "variables = ['incomeperperson', 'alcconsumption', 'co2emissions', 'femaleemployrate', \n",
    "                'internetuserate', 'lifeexpectancy','polityscore','employrate','urbanrate']\n",
    "                \n",
    "# convert to numeric format\n",
    "for variable in variables:\n",
    "    df[variable] = pd.to_numeric(df[variable], errors='coerce')\n",
    "    \n",
    "# listwise deletion of missing values\n",
    "subset = df[variables].dropna()\n",
    "\n",
    "# Print the rows and columns of the data frame\n",
    "print('Size of study data')\n",
    "print(subset.shape)"
   ]
  },
  {
   "cell_type": "code",
   "execution_count": 2,
   "metadata": {
    "collapsed": true
   },
   "outputs": [],
   "source": [
    "# Identify contries with a high level of income using the MAD (mean absolute deviation) method\n",
    "subset['absolute_deviations'] = np.absolute(subset['incomeperperson'] - np.median(subset['incomeperperson']))\n",
    "MAD = np.mean(subset['absolute_deviations'])\n",
    "\n",
    "# This function converts the income per person absolute deviations to a high income flag\n",
    "def high_income_flag(absolute_deviations):\n",
    "    threshold = 3\n",
    "    if (absolute_deviations/MAD) > threshold:\n",
    "        return \"Yes\"\n",
    "    else:\n",
    "        return \"No\"\n",
    "\n",
    "subset['High Income'] = subset['absolute_deviations'].apply(high_income_flag)\n",
    "subset['High Income'] = subset['High Income'].astype('category')"
   ]
  },
  {
   "cell_type": "code",
   "execution_count": 3,
   "metadata": {
    "collapsed": false
   },
   "outputs": [
    {
     "name": "stdout",
     "output_type": "stream",
     "text": [
      "Classification Report\n",
      "             precision    recall  f1-score   support\n",
      "\n",
      "         No       0.98      0.98      0.98        53\n",
      "        Yes       0.86      0.86      0.86         7\n",
      "\n",
      "avg / total       0.97      0.97      0.97        60\n",
      "\n"
     ]
    }
   ],
   "source": [
    "# Remove the first variable from the list since the target is derived from it\n",
    "variables.pop(0)\n",
    "\n",
    "predictors = subset[variables]\n",
    "targets = subset['High Income']\n",
    "\n",
    "#Split into training and testing sets+\n",
    "training_data, test_data, training_target, test_target  = train_test_split(predictors, targets, test_size=.4)\n",
    "\n",
    "# Build the random forest classifier\n",
    "classifier=RandomForestClassifier(n_estimators=n_estimators)\n",
    "classifier=classifier.fit(training_data,training_target)\n",
    "\n",
    "predictions=classifier.predict(test_data)\n",
    "\n",
    "print('Classification Report')\n",
    "print(sk.metrics.classification_report(test_target, predictions))"
   ]
  },
  {
   "cell_type": "code",
   "execution_count": 4,
   "metadata": {
    "collapsed": false
   },
   "outputs": [
    {
     "name": "stdout",
     "output_type": "stream",
     "text": [
      "Confusion Matrix\n",
      "[[52  1]\n",
      " [ 1  6]]\n"
     ]
    }
   ],
   "source": [
    "print('Confusion Matrix')\n",
    "print(sk.metrics.confusion_matrix(test_target, predictions))"
   ]
  },
  {
   "cell_type": "code",
   "execution_count": 5,
   "metadata": {
    "collapsed": false
   },
   "outputs": [
    {
     "name": "stdout",
     "output_type": "stream",
     "text": [
      "Accuracy Score\n",
      "0.966666666667\n"
     ]
    }
   ],
   "source": [
    "print('Accuracy Score')\n",
    "print(sk.metrics.accuracy_score(test_target, predictions))"
   ]
  },
  {
   "cell_type": "code",
   "execution_count": 6,
   "metadata": {
    "collapsed": false
   },
   "outputs": [
    {
     "name": "stdout",
     "output_type": "stream",
     "text": [
      "   importance              name\n",
      "4    0.402458    lifeexpectancy\n",
      "3    0.206540   internetuserate\n",
      "7    0.096377         urbanrate\n",
      "1    0.074468      co2emissions\n",
      "2    0.071094  femaleemployrate\n",
      "0    0.067265    alcconsumption\n",
      "6    0.046357        employrate\n",
      "5    0.035441       polityscore\n"
     ]
    }
   ],
   "source": [
    "# Fit an Extra Trees model to the data\n",
    "model = ExtraTreesClassifier()\n",
    "model.fit(training_data,training_target)\n",
    "\n",
    "# Display the relative importance of each attribute\n",
    "feature_name = list(predictors.columns.values)\n",
    "feature_importance = list(model.feature_importances_)\n",
    "features = pd.DataFrame({'name':feature_name, 'importance':feature_importance}).sort_values(by='importance', ascending=False)\n",
    "print(features.head(len(feature_name)))"
   ]
  },
  {
   "cell_type": "code",
   "execution_count": 7,
   "metadata": {
    "collapsed": false
   },
   "outputs": [
    {
     "data": {
      "text/plain": [
       "[<matplotlib.lines.Line2D at 0xab61966c>]"
      ]
     },
     "execution_count": 7,
     "metadata": {},
     "output_type": "execute_result"
    },
    {
     "data": {
      "image/png": "[encoded data removed]",
      "text/plain": [
       "<matplotlib.figure.Figure at 0xab59c7ac>"
      ]
     },
     "metadata": {},
     "output_type": "display_data"
    }
   ],
   "source": [
    "trees = range(n_estimators)\n",
    "accuracy = np.zeros(n_estimators)\n",
    "\n",
    "for idx in range(len(trees)):\n",
    "    classifier=RandomForestClassifier(n_estimators=idx+1)\n",
    "    classifier=classifier.fit(training_data,training_target)\n",
    "    predictions=classifier.predict(test_data)\n",
    "    accuracy[idx] = sk.metrics.accuracy_score(test_target, predictions)\n",
    "    \n",
    "plt.cla()\n",
    "plt.plot(trees, accuracy)"
   ]
  }
 ],
 "metadata": {
  "kernelspec": {
   "display_name": "Python 2",
   "language": "python",
   "name": "python2"
  },
  "language_info": {
   "codemirror_mode": {
    "name": "ipython",
    "version": 2
   },
   "file_extension": ".py",
   "mimetype": "text/x-python",
   "name": "python",
   "nbconvert_exporter": "python",
   "pygments_lexer": "ipython2",
   "version": "2.7.11"
  }
 },
 "nbformat": 4,
 "nbformat_minor": 0
}
